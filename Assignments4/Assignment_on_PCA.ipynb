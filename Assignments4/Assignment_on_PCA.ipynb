{
 "cells": [
  {
   "cell_type": "markdown",
   "id": "2c9f64b9",
   "metadata": {},
   "source": [
    "# Q).Perform Principal component analysis and perform clustering using first 3\n",
    "#  principal component scores (both heirarchial and k mean clustering(scree plot or elbow curve) and obtain \n",
    "# optimum number of clusters and check whether we have obtained same number of clusters with the original data \n",
    "# (class column we have ignored at the begining who shows it has 3 clusters)df"
   ]
  },
  {
   "cell_type": "code",
   "execution_count": 1,
   "id": "14af477c",
   "metadata": {},
   "outputs": [],
   "source": [
    "#Importing Libraries"
   ]
  },
  {
   "cell_type": "code",
   "execution_count": 2,
   "id": "e8237686",
   "metadata": {},
   "outputs": [
    {
     "data": {
      "text/html": [
       "<div>\n",
       "<style scoped>\n",
       "    .dataframe tbody tr th:only-of-type {\n",
       "        vertical-align: middle;\n",
       "    }\n",
       "\n",
       "    .dataframe tbody tr th {\n",
       "        vertical-align: top;\n",
       "    }\n",
       "\n",
       "    .dataframe thead th {\n",
       "        text-align: right;\n",
       "    }\n",
       "</style>\n",
       "<table border=\"1\" class=\"dataframe\">\n",
       "  <thead>\n",
       "    <tr style=\"text-align: right;\">\n",
       "      <th></th>\n",
       "      <th>Type</th>\n",
       "      <th>Alcohol</th>\n",
       "      <th>Malic</th>\n",
       "      <th>Ash</th>\n",
       "      <th>Alcalinity</th>\n",
       "      <th>Magnesium</th>\n",
       "      <th>Phenols</th>\n",
       "      <th>Flavanoids</th>\n",
       "      <th>Nonflavanoids</th>\n",
       "      <th>Proanthocyanins</th>\n",
       "      <th>Color</th>\n",
       "      <th>Hue</th>\n",
       "      <th>Dilution</th>\n",
       "      <th>Proline</th>\n",
       "    </tr>\n",
       "  </thead>\n",
       "  <tbody>\n",
       "    <tr>\n",
       "      <th>0</th>\n",
       "      <td>1</td>\n",
       "      <td>14.23</td>\n",
       "      <td>1.71</td>\n",
       "      <td>2.43</td>\n",
       "      <td>15.6</td>\n",
       "      <td>127</td>\n",
       "      <td>2.80</td>\n",
       "      <td>3.06</td>\n",
       "      <td>0.28</td>\n",
       "      <td>2.29</td>\n",
       "      <td>5.64</td>\n",
       "      <td>1.04</td>\n",
       "      <td>3.92</td>\n",
       "      <td>1065</td>\n",
       "    </tr>\n",
       "    <tr>\n",
       "      <th>1</th>\n",
       "      <td>1</td>\n",
       "      <td>13.20</td>\n",
       "      <td>1.78</td>\n",
       "      <td>2.14</td>\n",
       "      <td>11.2</td>\n",
       "      <td>100</td>\n",
       "      <td>2.65</td>\n",
       "      <td>2.76</td>\n",
       "      <td>0.26</td>\n",
       "      <td>1.28</td>\n",
       "      <td>4.38</td>\n",
       "      <td>1.05</td>\n",
       "      <td>3.40</td>\n",
       "      <td>1050</td>\n",
       "    </tr>\n",
       "    <tr>\n",
       "      <th>2</th>\n",
       "      <td>1</td>\n",
       "      <td>13.16</td>\n",
       "      <td>2.36</td>\n",
       "      <td>2.67</td>\n",
       "      <td>18.6</td>\n",
       "      <td>101</td>\n",
       "      <td>2.80</td>\n",
       "      <td>3.24</td>\n",
       "      <td>0.30</td>\n",
       "      <td>2.81</td>\n",
       "      <td>5.68</td>\n",
       "      <td>1.03</td>\n",
       "      <td>3.17</td>\n",
       "      <td>1185</td>\n",
       "    </tr>\n",
       "    <tr>\n",
       "      <th>3</th>\n",
       "      <td>1</td>\n",
       "      <td>14.37</td>\n",
       "      <td>1.95</td>\n",
       "      <td>2.50</td>\n",
       "      <td>16.8</td>\n",
       "      <td>113</td>\n",
       "      <td>3.85</td>\n",
       "      <td>3.49</td>\n",
       "      <td>0.24</td>\n",
       "      <td>2.18</td>\n",
       "      <td>7.80</td>\n",
       "      <td>0.86</td>\n",
       "      <td>3.45</td>\n",
       "      <td>1480</td>\n",
       "    </tr>\n",
       "    <tr>\n",
       "      <th>4</th>\n",
       "      <td>1</td>\n",
       "      <td>13.24</td>\n",
       "      <td>2.59</td>\n",
       "      <td>2.87</td>\n",
       "      <td>21.0</td>\n",
       "      <td>118</td>\n",
       "      <td>2.80</td>\n",
       "      <td>2.69</td>\n",
       "      <td>0.39</td>\n",
       "      <td>1.82</td>\n",
       "      <td>4.32</td>\n",
       "      <td>1.04</td>\n",
       "      <td>2.93</td>\n",
       "      <td>735</td>\n",
       "    </tr>\n",
       "    <tr>\n",
       "      <th>...</th>\n",
       "      <td>...</td>\n",
       "      <td>...</td>\n",
       "      <td>...</td>\n",
       "      <td>...</td>\n",
       "      <td>...</td>\n",
       "      <td>...</td>\n",
       "      <td>...</td>\n",
       "      <td>...</td>\n",
       "      <td>...</td>\n",
       "      <td>...</td>\n",
       "      <td>...</td>\n",
       "      <td>...</td>\n",
       "      <td>...</td>\n",
       "      <td>...</td>\n",
       "    </tr>\n",
       "    <tr>\n",
       "      <th>173</th>\n",
       "      <td>3</td>\n",
       "      <td>13.71</td>\n",
       "      <td>5.65</td>\n",
       "      <td>2.45</td>\n",
       "      <td>20.5</td>\n",
       "      <td>95</td>\n",
       "      <td>1.68</td>\n",
       "      <td>0.61</td>\n",
       "      <td>0.52</td>\n",
       "      <td>1.06</td>\n",
       "      <td>7.70</td>\n",
       "      <td>0.64</td>\n",
       "      <td>1.74</td>\n",
       "      <td>740</td>\n",
       "    </tr>\n",
       "    <tr>\n",
       "      <th>174</th>\n",
       "      <td>3</td>\n",
       "      <td>13.40</td>\n",
       "      <td>3.91</td>\n",
       "      <td>2.48</td>\n",
       "      <td>23.0</td>\n",
       "      <td>102</td>\n",
       "      <td>1.80</td>\n",
       "      <td>0.75</td>\n",
       "      <td>0.43</td>\n",
       "      <td>1.41</td>\n",
       "      <td>7.30</td>\n",
       "      <td>0.70</td>\n",
       "      <td>1.56</td>\n",
       "      <td>750</td>\n",
       "    </tr>\n",
       "    <tr>\n",
       "      <th>175</th>\n",
       "      <td>3</td>\n",
       "      <td>13.27</td>\n",
       "      <td>4.28</td>\n",
       "      <td>2.26</td>\n",
       "      <td>20.0</td>\n",
       "      <td>120</td>\n",
       "      <td>1.59</td>\n",
       "      <td>0.69</td>\n",
       "      <td>0.43</td>\n",
       "      <td>1.35</td>\n",
       "      <td>10.20</td>\n",
       "      <td>0.59</td>\n",
       "      <td>1.56</td>\n",
       "      <td>835</td>\n",
       "    </tr>\n",
       "    <tr>\n",
       "      <th>176</th>\n",
       "      <td>3</td>\n",
       "      <td>13.17</td>\n",
       "      <td>2.59</td>\n",
       "      <td>2.37</td>\n",
       "      <td>20.0</td>\n",
       "      <td>120</td>\n",
       "      <td>1.65</td>\n",
       "      <td>0.68</td>\n",
       "      <td>0.53</td>\n",
       "      <td>1.46</td>\n",
       "      <td>9.30</td>\n",
       "      <td>0.60</td>\n",
       "      <td>1.62</td>\n",
       "      <td>840</td>\n",
       "    </tr>\n",
       "    <tr>\n",
       "      <th>177</th>\n",
       "      <td>3</td>\n",
       "      <td>14.13</td>\n",
       "      <td>4.10</td>\n",
       "      <td>2.74</td>\n",
       "      <td>24.5</td>\n",
       "      <td>96</td>\n",
       "      <td>2.05</td>\n",
       "      <td>0.76</td>\n",
       "      <td>0.56</td>\n",
       "      <td>1.35</td>\n",
       "      <td>9.20</td>\n",
       "      <td>0.61</td>\n",
       "      <td>1.60</td>\n",
       "      <td>560</td>\n",
       "    </tr>\n",
       "  </tbody>\n",
       "</table>\n",
       "<p>178 rows × 14 columns</p>\n",
       "</div>"
      ],
      "text/plain": [
       "     Type  Alcohol  Malic   Ash  Alcalinity  Magnesium  Phenols  Flavanoids  \\\n",
       "0       1    14.23   1.71  2.43        15.6        127     2.80        3.06   \n",
       "1       1    13.20   1.78  2.14        11.2        100     2.65        2.76   \n",
       "2       1    13.16   2.36  2.67        18.6        101     2.80        3.24   \n",
       "3       1    14.37   1.95  2.50        16.8        113     3.85        3.49   \n",
       "4       1    13.24   2.59  2.87        21.0        118     2.80        2.69   \n",
       "..    ...      ...    ...   ...         ...        ...      ...         ...   \n",
       "173     3    13.71   5.65  2.45        20.5         95     1.68        0.61   \n",
       "174     3    13.40   3.91  2.48        23.0        102     1.80        0.75   \n",
       "175     3    13.27   4.28  2.26        20.0        120     1.59        0.69   \n",
       "176     3    13.17   2.59  2.37        20.0        120     1.65        0.68   \n",
       "177     3    14.13   4.10  2.74        24.5         96     2.05        0.76   \n",
       "\n",
       "     Nonflavanoids  Proanthocyanins  Color   Hue  Dilution  Proline  \n",
       "0             0.28             2.29   5.64  1.04      3.92     1065  \n",
       "1             0.26             1.28   4.38  1.05      3.40     1050  \n",
       "2             0.30             2.81   5.68  1.03      3.17     1185  \n",
       "3             0.24             2.18   7.80  0.86      3.45     1480  \n",
       "4             0.39             1.82   4.32  1.04      2.93      735  \n",
       "..             ...              ...    ...   ...       ...      ...  \n",
       "173           0.52             1.06   7.70  0.64      1.74      740  \n",
       "174           0.43             1.41   7.30  0.70      1.56      750  \n",
       "175           0.43             1.35  10.20  0.59      1.56      835  \n",
       "176           0.53             1.46   9.30  0.60      1.62      840  \n",
       "177           0.56             1.35   9.20  0.61      1.60      560  \n",
       "\n",
       "[178 rows x 14 columns]"
      ]
     },
     "execution_count": 2,
     "metadata": {},
     "output_type": "execute_result"
    }
   ],
   "source": [
    "import numpy as np\n",
    "import pandas as pd\n",
    "df1 = pd.read_csv('wine.csv')\n",
    "df1"
   ]
  },
  {
   "cell_type": "code",
   "execution_count": 3,
   "id": "3d134e6f",
   "metadata": {},
   "outputs": [],
   "source": [
    "#Performing EDA"
   ]
  },
  {
   "cell_type": "code",
   "execution_count": 4,
   "id": "7ea60a0c",
   "metadata": {},
   "outputs": [
    {
     "data": {
      "text/html": [
       "<div>\n",
       "<style scoped>\n",
       "    .dataframe tbody tr th:only-of-type {\n",
       "        vertical-align: middle;\n",
       "    }\n",
       "\n",
       "    .dataframe tbody tr th {\n",
       "        vertical-align: top;\n",
       "    }\n",
       "\n",
       "    .dataframe thead th {\n",
       "        text-align: right;\n",
       "    }\n",
       "</style>\n",
       "<table border=\"1\" class=\"dataframe\">\n",
       "  <thead>\n",
       "    <tr style=\"text-align: right;\">\n",
       "      <th></th>\n",
       "      <th>count</th>\n",
       "      <th>mean</th>\n",
       "      <th>std</th>\n",
       "      <th>min</th>\n",
       "      <th>25%</th>\n",
       "      <th>50%</th>\n",
       "      <th>75%</th>\n",
       "      <th>max</th>\n",
       "    </tr>\n",
       "  </thead>\n",
       "  <tbody>\n",
       "    <tr>\n",
       "      <th>Type</th>\n",
       "      <td>178.0</td>\n",
       "      <td>1.938202</td>\n",
       "      <td>0.775035</td>\n",
       "      <td>1.00</td>\n",
       "      <td>1.0000</td>\n",
       "      <td>2.000</td>\n",
       "      <td>3.0000</td>\n",
       "      <td>3.00</td>\n",
       "    </tr>\n",
       "    <tr>\n",
       "      <th>Alcohol</th>\n",
       "      <td>178.0</td>\n",
       "      <td>13.000618</td>\n",
       "      <td>0.811827</td>\n",
       "      <td>11.03</td>\n",
       "      <td>12.3625</td>\n",
       "      <td>13.050</td>\n",
       "      <td>13.6775</td>\n",
       "      <td>14.83</td>\n",
       "    </tr>\n",
       "    <tr>\n",
       "      <th>Malic</th>\n",
       "      <td>178.0</td>\n",
       "      <td>2.336348</td>\n",
       "      <td>1.117146</td>\n",
       "      <td>0.74</td>\n",
       "      <td>1.6025</td>\n",
       "      <td>1.865</td>\n",
       "      <td>3.0825</td>\n",
       "      <td>5.80</td>\n",
       "    </tr>\n",
       "    <tr>\n",
       "      <th>Ash</th>\n",
       "      <td>178.0</td>\n",
       "      <td>2.366517</td>\n",
       "      <td>0.274344</td>\n",
       "      <td>1.36</td>\n",
       "      <td>2.2100</td>\n",
       "      <td>2.360</td>\n",
       "      <td>2.5575</td>\n",
       "      <td>3.23</td>\n",
       "    </tr>\n",
       "    <tr>\n",
       "      <th>Alcalinity</th>\n",
       "      <td>178.0</td>\n",
       "      <td>19.494944</td>\n",
       "      <td>3.339564</td>\n",
       "      <td>10.60</td>\n",
       "      <td>17.2000</td>\n",
       "      <td>19.500</td>\n",
       "      <td>21.5000</td>\n",
       "      <td>30.00</td>\n",
       "    </tr>\n",
       "    <tr>\n",
       "      <th>Magnesium</th>\n",
       "      <td>178.0</td>\n",
       "      <td>99.741573</td>\n",
       "      <td>14.282484</td>\n",
       "      <td>70.00</td>\n",
       "      <td>88.0000</td>\n",
       "      <td>98.000</td>\n",
       "      <td>107.0000</td>\n",
       "      <td>162.00</td>\n",
       "    </tr>\n",
       "    <tr>\n",
       "      <th>Phenols</th>\n",
       "      <td>178.0</td>\n",
       "      <td>2.295112</td>\n",
       "      <td>0.625851</td>\n",
       "      <td>0.98</td>\n",
       "      <td>1.7425</td>\n",
       "      <td>2.355</td>\n",
       "      <td>2.8000</td>\n",
       "      <td>3.88</td>\n",
       "    </tr>\n",
       "    <tr>\n",
       "      <th>Flavanoids</th>\n",
       "      <td>178.0</td>\n",
       "      <td>2.029270</td>\n",
       "      <td>0.998859</td>\n",
       "      <td>0.34</td>\n",
       "      <td>1.2050</td>\n",
       "      <td>2.135</td>\n",
       "      <td>2.8750</td>\n",
       "      <td>5.08</td>\n",
       "    </tr>\n",
       "    <tr>\n",
       "      <th>Nonflavanoids</th>\n",
       "      <td>178.0</td>\n",
       "      <td>0.361854</td>\n",
       "      <td>0.124453</td>\n",
       "      <td>0.13</td>\n",
       "      <td>0.2700</td>\n",
       "      <td>0.340</td>\n",
       "      <td>0.4375</td>\n",
       "      <td>0.66</td>\n",
       "    </tr>\n",
       "    <tr>\n",
       "      <th>Proanthocyanins</th>\n",
       "      <td>178.0</td>\n",
       "      <td>1.590899</td>\n",
       "      <td>0.572359</td>\n",
       "      <td>0.41</td>\n",
       "      <td>1.2500</td>\n",
       "      <td>1.555</td>\n",
       "      <td>1.9500</td>\n",
       "      <td>3.58</td>\n",
       "    </tr>\n",
       "    <tr>\n",
       "      <th>Color</th>\n",
       "      <td>178.0</td>\n",
       "      <td>5.058090</td>\n",
       "      <td>2.318286</td>\n",
       "      <td>1.28</td>\n",
       "      <td>3.2200</td>\n",
       "      <td>4.690</td>\n",
       "      <td>6.2000</td>\n",
       "      <td>13.00</td>\n",
       "    </tr>\n",
       "    <tr>\n",
       "      <th>Hue</th>\n",
       "      <td>178.0</td>\n",
       "      <td>0.957449</td>\n",
       "      <td>0.228572</td>\n",
       "      <td>0.48</td>\n",
       "      <td>0.7825</td>\n",
       "      <td>0.965</td>\n",
       "      <td>1.1200</td>\n",
       "      <td>1.71</td>\n",
       "    </tr>\n",
       "    <tr>\n",
       "      <th>Dilution</th>\n",
       "      <td>178.0</td>\n",
       "      <td>2.611685</td>\n",
       "      <td>0.709990</td>\n",
       "      <td>1.27</td>\n",
       "      <td>1.9375</td>\n",
       "      <td>2.780</td>\n",
       "      <td>3.1700</td>\n",
       "      <td>4.00</td>\n",
       "    </tr>\n",
       "    <tr>\n",
       "      <th>Proline</th>\n",
       "      <td>178.0</td>\n",
       "      <td>746.893258</td>\n",
       "      <td>314.907474</td>\n",
       "      <td>278.00</td>\n",
       "      <td>500.5000</td>\n",
       "      <td>673.500</td>\n",
       "      <td>985.0000</td>\n",
       "      <td>1680.00</td>\n",
       "    </tr>\n",
       "  </tbody>\n",
       "</table>\n",
       "</div>"
      ],
      "text/plain": [
       "                 count        mean         std     min       25%      50%  \\\n",
       "Type             178.0    1.938202    0.775035    1.00    1.0000    2.000   \n",
       "Alcohol          178.0   13.000618    0.811827   11.03   12.3625   13.050   \n",
       "Malic            178.0    2.336348    1.117146    0.74    1.6025    1.865   \n",
       "Ash              178.0    2.366517    0.274344    1.36    2.2100    2.360   \n",
       "Alcalinity       178.0   19.494944    3.339564   10.60   17.2000   19.500   \n",
       "Magnesium        178.0   99.741573   14.282484   70.00   88.0000   98.000   \n",
       "Phenols          178.0    2.295112    0.625851    0.98    1.7425    2.355   \n",
       "Flavanoids       178.0    2.029270    0.998859    0.34    1.2050    2.135   \n",
       "Nonflavanoids    178.0    0.361854    0.124453    0.13    0.2700    0.340   \n",
       "Proanthocyanins  178.0    1.590899    0.572359    0.41    1.2500    1.555   \n",
       "Color            178.0    5.058090    2.318286    1.28    3.2200    4.690   \n",
       "Hue              178.0    0.957449    0.228572    0.48    0.7825    0.965   \n",
       "Dilution         178.0    2.611685    0.709990    1.27    1.9375    2.780   \n",
       "Proline          178.0  746.893258  314.907474  278.00  500.5000  673.500   \n",
       "\n",
       "                      75%      max  \n",
       "Type               3.0000     3.00  \n",
       "Alcohol           13.6775    14.83  \n",
       "Malic              3.0825     5.80  \n",
       "Ash                2.5575     3.23  \n",
       "Alcalinity        21.5000    30.00  \n",
       "Magnesium        107.0000   162.00  \n",
       "Phenols            2.8000     3.88  \n",
       "Flavanoids         2.8750     5.08  \n",
       "Nonflavanoids      0.4375     0.66  \n",
       "Proanthocyanins    1.9500     3.58  \n",
       "Color              6.2000    13.00  \n",
       "Hue                1.1200     1.71  \n",
       "Dilution           3.1700     4.00  \n",
       "Proline          985.0000  1680.00  "
      ]
     },
     "execution_count": 4,
     "metadata": {},
     "output_type": "execute_result"
    }
   ],
   "source": [
    "df1.describe().T"
   ]
  },
  {
   "cell_type": "code",
   "execution_count": 5,
   "id": "b4a72ded",
   "metadata": {},
   "outputs": [
    {
     "name": "stdout",
     "output_type": "stream",
     "text": [
      "<class 'pandas.core.frame.DataFrame'>\n",
      "RangeIndex: 178 entries, 0 to 177\n",
      "Data columns (total 14 columns):\n",
      " #   Column           Non-Null Count  Dtype  \n",
      "---  ------           --------------  -----  \n",
      " 0   Type             178 non-null    int64  \n",
      " 1   Alcohol          178 non-null    float64\n",
      " 2   Malic            178 non-null    float64\n",
      " 3   Ash              178 non-null    float64\n",
      " 4   Alcalinity       178 non-null    float64\n",
      " 5   Magnesium        178 non-null    int64  \n",
      " 6   Phenols          178 non-null    float64\n",
      " 7   Flavanoids       178 non-null    float64\n",
      " 8   Nonflavanoids    178 non-null    float64\n",
      " 9   Proanthocyanins  178 non-null    float64\n",
      " 10  Color            178 non-null    float64\n",
      " 11  Hue              178 non-null    float64\n",
      " 12  Dilution         178 non-null    float64\n",
      " 13  Proline          178 non-null    int64  \n",
      "dtypes: float64(11), int64(3)\n",
      "memory usage: 19.6 KB\n"
     ]
    }
   ],
   "source": [
    "df1.info()"
   ]
  },
  {
   "cell_type": "code",
   "execution_count": 6,
   "id": "cf50c137",
   "metadata": {},
   "outputs": [
    {
     "data": {
      "text/html": [
       "<div>\n",
       "<style scoped>\n",
       "    .dataframe tbody tr th:only-of-type {\n",
       "        vertical-align: middle;\n",
       "    }\n",
       "\n",
       "    .dataframe tbody tr th {\n",
       "        vertical-align: top;\n",
       "    }\n",
       "\n",
       "    .dataframe thead th {\n",
       "        text-align: right;\n",
       "    }\n",
       "</style>\n",
       "<table border=\"1\" class=\"dataframe\">\n",
       "  <thead>\n",
       "    <tr style=\"text-align: right;\">\n",
       "      <th></th>\n",
       "      <th>Type</th>\n",
       "      <th>Alcohol</th>\n",
       "      <th>Malic</th>\n",
       "      <th>Ash</th>\n",
       "      <th>Alcalinity</th>\n",
       "      <th>Magnesium</th>\n",
       "      <th>Phenols</th>\n",
       "      <th>Flavanoids</th>\n",
       "      <th>Nonflavanoids</th>\n",
       "      <th>Proanthocyanins</th>\n",
       "      <th>Color</th>\n",
       "      <th>Hue</th>\n",
       "      <th>Dilution</th>\n",
       "      <th>Proline</th>\n",
       "    </tr>\n",
       "  </thead>\n",
       "  <tbody>\n",
       "    <tr>\n",
       "      <th>Type</th>\n",
       "      <td>1.000000</td>\n",
       "      <td>-0.328222</td>\n",
       "      <td>0.437776</td>\n",
       "      <td>-0.049643</td>\n",
       "      <td>0.517859</td>\n",
       "      <td>-0.209179</td>\n",
       "      <td>-0.719163</td>\n",
       "      <td>-0.847498</td>\n",
       "      <td>0.489109</td>\n",
       "      <td>-0.499130</td>\n",
       "      <td>0.265668</td>\n",
       "      <td>-0.617369</td>\n",
       "      <td>-0.788230</td>\n",
       "      <td>-0.633717</td>\n",
       "    </tr>\n",
       "    <tr>\n",
       "      <th>Alcohol</th>\n",
       "      <td>-0.328222</td>\n",
       "      <td>1.000000</td>\n",
       "      <td>0.094397</td>\n",
       "      <td>0.211545</td>\n",
       "      <td>-0.310235</td>\n",
       "      <td>0.270798</td>\n",
       "      <td>0.289101</td>\n",
       "      <td>0.236815</td>\n",
       "      <td>-0.155929</td>\n",
       "      <td>0.136698</td>\n",
       "      <td>0.546364</td>\n",
       "      <td>-0.071747</td>\n",
       "      <td>0.072343</td>\n",
       "      <td>0.643720</td>\n",
       "    </tr>\n",
       "    <tr>\n",
       "      <th>Malic</th>\n",
       "      <td>0.437776</td>\n",
       "      <td>0.094397</td>\n",
       "      <td>1.000000</td>\n",
       "      <td>0.164045</td>\n",
       "      <td>0.288500</td>\n",
       "      <td>-0.054575</td>\n",
       "      <td>-0.335167</td>\n",
       "      <td>-0.411007</td>\n",
       "      <td>0.292977</td>\n",
       "      <td>-0.220746</td>\n",
       "      <td>0.248985</td>\n",
       "      <td>-0.561296</td>\n",
       "      <td>-0.368710</td>\n",
       "      <td>-0.192011</td>\n",
       "    </tr>\n",
       "    <tr>\n",
       "      <th>Ash</th>\n",
       "      <td>-0.049643</td>\n",
       "      <td>0.211545</td>\n",
       "      <td>0.164045</td>\n",
       "      <td>1.000000</td>\n",
       "      <td>0.443367</td>\n",
       "      <td>0.286587</td>\n",
       "      <td>0.128980</td>\n",
       "      <td>0.115077</td>\n",
       "      <td>0.186230</td>\n",
       "      <td>0.009652</td>\n",
       "      <td>0.258887</td>\n",
       "      <td>-0.074667</td>\n",
       "      <td>0.003911</td>\n",
       "      <td>0.223626</td>\n",
       "    </tr>\n",
       "    <tr>\n",
       "      <th>Alcalinity</th>\n",
       "      <td>0.517859</td>\n",
       "      <td>-0.310235</td>\n",
       "      <td>0.288500</td>\n",
       "      <td>0.443367</td>\n",
       "      <td>1.000000</td>\n",
       "      <td>-0.083333</td>\n",
       "      <td>-0.321113</td>\n",
       "      <td>-0.351370</td>\n",
       "      <td>0.361922</td>\n",
       "      <td>-0.197327</td>\n",
       "      <td>0.018732</td>\n",
       "      <td>-0.273955</td>\n",
       "      <td>-0.276769</td>\n",
       "      <td>-0.440597</td>\n",
       "    </tr>\n",
       "    <tr>\n",
       "      <th>Magnesium</th>\n",
       "      <td>-0.209179</td>\n",
       "      <td>0.270798</td>\n",
       "      <td>-0.054575</td>\n",
       "      <td>0.286587</td>\n",
       "      <td>-0.083333</td>\n",
       "      <td>1.000000</td>\n",
       "      <td>0.214401</td>\n",
       "      <td>0.195784</td>\n",
       "      <td>-0.256294</td>\n",
       "      <td>0.236441</td>\n",
       "      <td>0.199950</td>\n",
       "      <td>0.055398</td>\n",
       "      <td>0.066004</td>\n",
       "      <td>0.393351</td>\n",
       "    </tr>\n",
       "    <tr>\n",
       "      <th>Phenols</th>\n",
       "      <td>-0.719163</td>\n",
       "      <td>0.289101</td>\n",
       "      <td>-0.335167</td>\n",
       "      <td>0.128980</td>\n",
       "      <td>-0.321113</td>\n",
       "      <td>0.214401</td>\n",
       "      <td>1.000000</td>\n",
       "      <td>0.864564</td>\n",
       "      <td>-0.449935</td>\n",
       "      <td>0.612413</td>\n",
       "      <td>-0.055136</td>\n",
       "      <td>0.433681</td>\n",
       "      <td>0.699949</td>\n",
       "      <td>0.498115</td>\n",
       "    </tr>\n",
       "    <tr>\n",
       "      <th>Flavanoids</th>\n",
       "      <td>-0.847498</td>\n",
       "      <td>0.236815</td>\n",
       "      <td>-0.411007</td>\n",
       "      <td>0.115077</td>\n",
       "      <td>-0.351370</td>\n",
       "      <td>0.195784</td>\n",
       "      <td>0.864564</td>\n",
       "      <td>1.000000</td>\n",
       "      <td>-0.537900</td>\n",
       "      <td>0.652692</td>\n",
       "      <td>-0.172379</td>\n",
       "      <td>0.543479</td>\n",
       "      <td>0.787194</td>\n",
       "      <td>0.494193</td>\n",
       "    </tr>\n",
       "    <tr>\n",
       "      <th>Nonflavanoids</th>\n",
       "      <td>0.489109</td>\n",
       "      <td>-0.155929</td>\n",
       "      <td>0.292977</td>\n",
       "      <td>0.186230</td>\n",
       "      <td>0.361922</td>\n",
       "      <td>-0.256294</td>\n",
       "      <td>-0.449935</td>\n",
       "      <td>-0.537900</td>\n",
       "      <td>1.000000</td>\n",
       "      <td>-0.365845</td>\n",
       "      <td>0.139057</td>\n",
       "      <td>-0.262640</td>\n",
       "      <td>-0.503270</td>\n",
       "      <td>-0.311385</td>\n",
       "    </tr>\n",
       "    <tr>\n",
       "      <th>Proanthocyanins</th>\n",
       "      <td>-0.499130</td>\n",
       "      <td>0.136698</td>\n",
       "      <td>-0.220746</td>\n",
       "      <td>0.009652</td>\n",
       "      <td>-0.197327</td>\n",
       "      <td>0.236441</td>\n",
       "      <td>0.612413</td>\n",
       "      <td>0.652692</td>\n",
       "      <td>-0.365845</td>\n",
       "      <td>1.000000</td>\n",
       "      <td>-0.025250</td>\n",
       "      <td>0.295544</td>\n",
       "      <td>0.519067</td>\n",
       "      <td>0.330417</td>\n",
       "    </tr>\n",
       "    <tr>\n",
       "      <th>Color</th>\n",
       "      <td>0.265668</td>\n",
       "      <td>0.546364</td>\n",
       "      <td>0.248985</td>\n",
       "      <td>0.258887</td>\n",
       "      <td>0.018732</td>\n",
       "      <td>0.199950</td>\n",
       "      <td>-0.055136</td>\n",
       "      <td>-0.172379</td>\n",
       "      <td>0.139057</td>\n",
       "      <td>-0.025250</td>\n",
       "      <td>1.000000</td>\n",
       "      <td>-0.521813</td>\n",
       "      <td>-0.428815</td>\n",
       "      <td>0.316100</td>\n",
       "    </tr>\n",
       "    <tr>\n",
       "      <th>Hue</th>\n",
       "      <td>-0.617369</td>\n",
       "      <td>-0.071747</td>\n",
       "      <td>-0.561296</td>\n",
       "      <td>-0.074667</td>\n",
       "      <td>-0.273955</td>\n",
       "      <td>0.055398</td>\n",
       "      <td>0.433681</td>\n",
       "      <td>0.543479</td>\n",
       "      <td>-0.262640</td>\n",
       "      <td>0.295544</td>\n",
       "      <td>-0.521813</td>\n",
       "      <td>1.000000</td>\n",
       "      <td>0.565468</td>\n",
       "      <td>0.236183</td>\n",
       "    </tr>\n",
       "    <tr>\n",
       "      <th>Dilution</th>\n",
       "      <td>-0.788230</td>\n",
       "      <td>0.072343</td>\n",
       "      <td>-0.368710</td>\n",
       "      <td>0.003911</td>\n",
       "      <td>-0.276769</td>\n",
       "      <td>0.066004</td>\n",
       "      <td>0.699949</td>\n",
       "      <td>0.787194</td>\n",
       "      <td>-0.503270</td>\n",
       "      <td>0.519067</td>\n",
       "      <td>-0.428815</td>\n",
       "      <td>0.565468</td>\n",
       "      <td>1.000000</td>\n",
       "      <td>0.312761</td>\n",
       "    </tr>\n",
       "    <tr>\n",
       "      <th>Proline</th>\n",
       "      <td>-0.633717</td>\n",
       "      <td>0.643720</td>\n",
       "      <td>-0.192011</td>\n",
       "      <td>0.223626</td>\n",
       "      <td>-0.440597</td>\n",
       "      <td>0.393351</td>\n",
       "      <td>0.498115</td>\n",
       "      <td>0.494193</td>\n",
       "      <td>-0.311385</td>\n",
       "      <td>0.330417</td>\n",
       "      <td>0.316100</td>\n",
       "      <td>0.236183</td>\n",
       "      <td>0.312761</td>\n",
       "      <td>1.000000</td>\n",
       "    </tr>\n",
       "  </tbody>\n",
       "</table>\n",
       "</div>"
      ],
      "text/plain": [
       "                     Type   Alcohol     Malic       Ash  Alcalinity  \\\n",
       "Type             1.000000 -0.328222  0.437776 -0.049643    0.517859   \n",
       "Alcohol         -0.328222  1.000000  0.094397  0.211545   -0.310235   \n",
       "Malic            0.437776  0.094397  1.000000  0.164045    0.288500   \n",
       "Ash             -0.049643  0.211545  0.164045  1.000000    0.443367   \n",
       "Alcalinity       0.517859 -0.310235  0.288500  0.443367    1.000000   \n",
       "Magnesium       -0.209179  0.270798 -0.054575  0.286587   -0.083333   \n",
       "Phenols         -0.719163  0.289101 -0.335167  0.128980   -0.321113   \n",
       "Flavanoids      -0.847498  0.236815 -0.411007  0.115077   -0.351370   \n",
       "Nonflavanoids    0.489109 -0.155929  0.292977  0.186230    0.361922   \n",
       "Proanthocyanins -0.499130  0.136698 -0.220746  0.009652   -0.197327   \n",
       "Color            0.265668  0.546364  0.248985  0.258887    0.018732   \n",
       "Hue             -0.617369 -0.071747 -0.561296 -0.074667   -0.273955   \n",
       "Dilution        -0.788230  0.072343 -0.368710  0.003911   -0.276769   \n",
       "Proline         -0.633717  0.643720 -0.192011  0.223626   -0.440597   \n",
       "\n",
       "                 Magnesium   Phenols  Flavanoids  Nonflavanoids  \\\n",
       "Type             -0.209179 -0.719163   -0.847498       0.489109   \n",
       "Alcohol           0.270798  0.289101    0.236815      -0.155929   \n",
       "Malic            -0.054575 -0.335167   -0.411007       0.292977   \n",
       "Ash               0.286587  0.128980    0.115077       0.186230   \n",
       "Alcalinity       -0.083333 -0.321113   -0.351370       0.361922   \n",
       "Magnesium         1.000000  0.214401    0.195784      -0.256294   \n",
       "Phenols           0.214401  1.000000    0.864564      -0.449935   \n",
       "Flavanoids        0.195784  0.864564    1.000000      -0.537900   \n",
       "Nonflavanoids    -0.256294 -0.449935   -0.537900       1.000000   \n",
       "Proanthocyanins   0.236441  0.612413    0.652692      -0.365845   \n",
       "Color             0.199950 -0.055136   -0.172379       0.139057   \n",
       "Hue               0.055398  0.433681    0.543479      -0.262640   \n",
       "Dilution          0.066004  0.699949    0.787194      -0.503270   \n",
       "Proline           0.393351  0.498115    0.494193      -0.311385   \n",
       "\n",
       "                 Proanthocyanins     Color       Hue  Dilution   Proline  \n",
       "Type                   -0.499130  0.265668 -0.617369 -0.788230 -0.633717  \n",
       "Alcohol                 0.136698  0.546364 -0.071747  0.072343  0.643720  \n",
       "Malic                  -0.220746  0.248985 -0.561296 -0.368710 -0.192011  \n",
       "Ash                     0.009652  0.258887 -0.074667  0.003911  0.223626  \n",
       "Alcalinity             -0.197327  0.018732 -0.273955 -0.276769 -0.440597  \n",
       "Magnesium               0.236441  0.199950  0.055398  0.066004  0.393351  \n",
       "Phenols                 0.612413 -0.055136  0.433681  0.699949  0.498115  \n",
       "Flavanoids              0.652692 -0.172379  0.543479  0.787194  0.494193  \n",
       "Nonflavanoids          -0.365845  0.139057 -0.262640 -0.503270 -0.311385  \n",
       "Proanthocyanins         1.000000 -0.025250  0.295544  0.519067  0.330417  \n",
       "Color                  -0.025250  1.000000 -0.521813 -0.428815  0.316100  \n",
       "Hue                     0.295544 -0.521813  1.000000  0.565468  0.236183  \n",
       "Dilution                0.519067 -0.428815  0.565468  1.000000  0.312761  \n",
       "Proline                 0.330417  0.316100  0.236183  0.312761  1.000000  "
      ]
     },
     "execution_count": 6,
     "metadata": {},
     "output_type": "execute_result"
    }
   ],
   "source": [
    "df1.corr()"
   ]
  },
  {
   "cell_type": "code",
   "execution_count": 7,
   "id": "407e499d",
   "metadata": {},
   "outputs": [],
   "source": [
    "#calculates the variance of each column in the DataFrame "
   ]
  },
  {
   "cell_type": "code",
   "execution_count": 8,
   "id": "4cf695cd",
   "metadata": {},
   "outputs": [
    {
     "data": {
      "text/plain": [
       "Type                   0.600679\n",
       "Alcohol                0.659062\n",
       "Malic                  1.248015\n",
       "Ash                    0.075265\n",
       "Alcalinity            11.152686\n",
       "Magnesium            203.989335\n",
       "Phenols                0.391690\n",
       "Flavanoids             0.997719\n",
       "Nonflavanoids          0.015489\n",
       "Proanthocyanins        0.327595\n",
       "Color                  5.374449\n",
       "Hue                    0.052245\n",
       "Dilution               0.504086\n",
       "Proline            99166.717355\n",
       "dtype: float64"
      ]
     },
     "execution_count": 8,
     "metadata": {},
     "output_type": "execute_result"
    }
   ],
   "source": [
    "t1=df1.var()\n",
    "t1"
   ]
  },
  {
   "cell_type": "code",
   "execution_count": 9,
   "id": "722a0076",
   "metadata": {},
   "outputs": [],
   "source": [
    "#perform (PCA) on your DataFrame df1. PCA is a technique used for dimensionality reduction."
   ]
  },
  {
   "cell_type": "code",
   "execution_count": 10,
   "id": "455af592",
   "metadata": {},
   "outputs": [],
   "source": [
    "from sklearn.decomposition import PCA\n",
    "pca = PCA()\n",
    "pc=pca.fit_transform(df1)"
   ]
  },
  {
   "cell_type": "code",
   "execution_count": 11,
   "id": "966cb389",
   "metadata": {},
   "outputs": [],
   "source": [
    "#converted the NumPy array pc (resulting from PCA) into a Pandas DataFrame and assigned column names to it"
   ]
  },
  {
   "cell_type": "code",
   "execution_count": 12,
   "id": "132b6195",
   "metadata": {},
   "outputs": [
    {
     "data": {
      "text/html": [
       "<div>\n",
       "<style scoped>\n",
       "    .dataframe tbody tr th:only-of-type {\n",
       "        vertical-align: middle;\n",
       "    }\n",
       "\n",
       "    .dataframe tbody tr th {\n",
       "        vertical-align: top;\n",
       "    }\n",
       "\n",
       "    .dataframe thead th {\n",
       "        text-align: right;\n",
       "    }\n",
       "</style>\n",
       "<table border=\"1\" class=\"dataframe\">\n",
       "  <thead>\n",
       "    <tr style=\"text-align: right;\">\n",
       "      <th></th>\n",
       "      <th>Type</th>\n",
       "      <th>Alcohol</th>\n",
       "      <th>Malic</th>\n",
       "      <th>Ash</th>\n",
       "      <th>Alcalinity</th>\n",
       "      <th>Magnesium</th>\n",
       "      <th>Phenols</th>\n",
       "      <th>Flavanoids</th>\n",
       "      <th>Nonflavanoids</th>\n",
       "      <th>Proanthocyanins</th>\n",
       "      <th>Color</th>\n",
       "      <th>Hue</th>\n",
       "      <th>Dilution</th>\n",
       "      <th>Proline</th>\n",
       "    </tr>\n",
       "  </thead>\n",
       "  <tbody>\n",
       "    <tr>\n",
       "      <th>0</th>\n",
       "      <td>318.564055</td>\n",
       "      <td>21.490773</td>\n",
       "      <td>3.164613</td>\n",
       "      <td>-0.260166</td>\n",
       "      <td>0.752092</td>\n",
       "      <td>0.520109</td>\n",
       "      <td>-0.590537</td>\n",
       "      <td>-0.212167</td>\n",
       "      <td>-0.676304</td>\n",
       "      <td>0.112542</td>\n",
       "      <td>0.140469</td>\n",
       "      <td>0.168879</td>\n",
       "      <td>-0.016430</td>\n",
       "      <td>0.089355</td>\n",
       "    </tr>\n",
       "    <tr>\n",
       "      <th>1</th>\n",
       "      <td>303.098514</td>\n",
       "      <td>-5.366083</td>\n",
       "      <td>6.816992</td>\n",
       "      <td>-1.004978</td>\n",
       "      <td>-0.501045</td>\n",
       "      <td>0.052439</td>\n",
       "      <td>0.082171</td>\n",
       "      <td>0.614829</td>\n",
       "      <td>-0.238538</td>\n",
       "      <td>0.091296</td>\n",
       "      <td>0.087360</td>\n",
       "      <td>0.088933</td>\n",
       "      <td>-0.044845</td>\n",
       "      <td>0.017896</td>\n",
       "    </tr>\n",
       "    <tr>\n",
       "      <th>2</th>\n",
       "      <td>438.062063</td>\n",
       "      <td>-6.537986</td>\n",
       "      <td>-1.066717</td>\n",
       "      <td>0.977727</td>\n",
       "      <td>0.453208</td>\n",
       "      <td>0.634322</td>\n",
       "      <td>0.793768</td>\n",
       "      <td>-0.427185</td>\n",
       "      <td>-0.120496</td>\n",
       "      <td>-0.337593</td>\n",
       "      <td>-0.135517</td>\n",
       "      <td>0.180876</td>\n",
       "      <td>-0.050358</td>\n",
       "      <td>-0.039421</td>\n",
       "    </tr>\n",
       "    <tr>\n",
       "      <th>3</th>\n",
       "      <td>733.240711</td>\n",
       "      <td>0.193320</td>\n",
       "      <td>-0.938312</td>\n",
       "      <td>-0.525349</td>\n",
       "      <td>0.879918</td>\n",
       "      <td>0.480810</td>\n",
       "      <td>0.100237</td>\n",
       "      <td>0.088945</td>\n",
       "      <td>0.071970</td>\n",
       "      <td>0.646950</td>\n",
       "      <td>-0.003737</td>\n",
       "      <td>-0.056476</td>\n",
       "      <td>-0.157085</td>\n",
       "      <td>0.021160</td>\n",
       "    </tr>\n",
       "    <tr>\n",
       "      <th>4</th>\n",
       "      <td>-11.569952</td>\n",
       "      <td>18.487255</td>\n",
       "      <td>-0.424917</td>\n",
       "      <td>1.518823</td>\n",
       "      <td>0.506733</td>\n",
       "      <td>0.862531</td>\n",
       "      <td>-0.405248</td>\n",
       "      <td>0.204093</td>\n",
       "      <td>0.111987</td>\n",
       "      <td>-0.280533</td>\n",
       "      <td>-0.552207</td>\n",
       "      <td>0.045926</td>\n",
       "      <td>-0.056540</td>\n",
       "      <td>-0.011405</td>\n",
       "    </tr>\n",
       "    <tr>\n",
       "      <th>...</th>\n",
       "      <td>...</td>\n",
       "      <td>...</td>\n",
       "      <td>...</td>\n",
       "      <td>...</td>\n",
       "      <td>...</td>\n",
       "      <td>...</td>\n",
       "      <td>...</td>\n",
       "      <td>...</td>\n",
       "      <td>...</td>\n",
       "      <td>...</td>\n",
       "      <td>...</td>\n",
       "      <td>...</td>\n",
       "      <td>...</td>\n",
       "      <td>...</td>\n",
       "    </tr>\n",
       "    <tr>\n",
       "      <th>173</th>\n",
       "      <td>-6.981858</td>\n",
       "      <td>-4.538116</td>\n",
       "      <td>-2.625187</td>\n",
       "      <td>-3.214097</td>\n",
       "      <td>-2.204812</td>\n",
       "      <td>1.644655</td>\n",
       "      <td>-0.007924</td>\n",
       "      <td>0.016205</td>\n",
       "      <td>-0.006596</td>\n",
       "      <td>0.148824</td>\n",
       "      <td>0.032053</td>\n",
       "      <td>0.042729</td>\n",
       "      <td>0.109068</td>\n",
       "      <td>0.034495</td>\n",
       "    </tr>\n",
       "    <tr>\n",
       "      <th>174</th>\n",
       "      <td>3.129945</td>\n",
       "      <td>2.338236</td>\n",
       "      <td>-4.423240</td>\n",
       "      <td>-1.576971</td>\n",
       "      <td>-1.184902</td>\n",
       "      <td>0.206914</td>\n",
       "      <td>0.035870</td>\n",
       "      <td>-0.339823</td>\n",
       "      <td>0.171434</td>\n",
       "      <td>0.139584</td>\n",
       "      <td>-0.001735</td>\n",
       "      <td>-0.037202</td>\n",
       "      <td>0.016845</td>\n",
       "      <td>-0.039199</td>\n",
       "    </tr>\n",
       "    <tr>\n",
       "      <th>175</th>\n",
       "      <td>88.456310</td>\n",
       "      <td>18.779644</td>\n",
       "      <td>-2.423127</td>\n",
       "      <td>-4.874280</td>\n",
       "      <td>-1.002718</td>\n",
       "      <td>0.319367</td>\n",
       "      <td>0.621932</td>\n",
       "      <td>0.124380</td>\n",
       "      <td>-0.289628</td>\n",
       "      <td>-0.027412</td>\n",
       "      <td>0.094686</td>\n",
       "      <td>-0.209746</td>\n",
       "      <td>0.085337</td>\n",
       "      <td>0.034372</td>\n",
       "    </tr>\n",
       "    <tr>\n",
       "      <th>176</th>\n",
       "      <td>93.454472</td>\n",
       "      <td>18.674180</td>\n",
       "      <td>-1.958775</td>\n",
       "      <td>-3.789964</td>\n",
       "      <td>-0.399558</td>\n",
       "      <td>-1.011081</td>\n",
       "      <td>0.415895</td>\n",
       "      <td>-0.128919</td>\n",
       "      <td>-0.250348</td>\n",
       "      <td>0.104226</td>\n",
       "      <td>0.044378</td>\n",
       "      <td>-0.000322</td>\n",
       "      <td>-0.046564</td>\n",
       "      <td>0.136469</td>\n",
       "    </tr>\n",
       "    <tr>\n",
       "      <th>177</th>\n",
       "      <td>-186.944619</td>\n",
       "      <td>-0.211063</td>\n",
       "      <td>-5.733920</td>\n",
       "      <td>-3.366462</td>\n",
       "      <td>0.186523</td>\n",
       "      <td>0.769307</td>\n",
       "      <td>-0.691678</td>\n",
       "      <td>-0.273443</td>\n",
       "      <td>0.128688</td>\n",
       "      <td>0.166117</td>\n",
       "      <td>-0.298025</td>\n",
       "      <td>0.039295</td>\n",
       "      <td>0.016019</td>\n",
       "      <td>0.019787</td>\n",
       "    </tr>\n",
       "  </tbody>\n",
       "</table>\n",
       "<p>178 rows × 14 columns</p>\n",
       "</div>"
      ],
      "text/plain": [
       "           Type    Alcohol     Malic       Ash  Alcalinity  Magnesium  \\\n",
       "0    318.564055  21.490773  3.164613 -0.260166    0.752092   0.520109   \n",
       "1    303.098514  -5.366083  6.816992 -1.004978   -0.501045   0.052439   \n",
       "2    438.062063  -6.537986 -1.066717  0.977727    0.453208   0.634322   \n",
       "3    733.240711   0.193320 -0.938312 -0.525349    0.879918   0.480810   \n",
       "4    -11.569952  18.487255 -0.424917  1.518823    0.506733   0.862531   \n",
       "..          ...        ...       ...       ...         ...        ...   \n",
       "173   -6.981858  -4.538116 -2.625187 -3.214097   -2.204812   1.644655   \n",
       "174    3.129945   2.338236 -4.423240 -1.576971   -1.184902   0.206914   \n",
       "175   88.456310  18.779644 -2.423127 -4.874280   -1.002718   0.319367   \n",
       "176   93.454472  18.674180 -1.958775 -3.789964   -0.399558  -1.011081   \n",
       "177 -186.944619  -0.211063 -5.733920 -3.366462    0.186523   0.769307   \n",
       "\n",
       "      Phenols  Flavanoids  Nonflavanoids  Proanthocyanins     Color       Hue  \\\n",
       "0   -0.590537   -0.212167      -0.676304         0.112542  0.140469  0.168879   \n",
       "1    0.082171    0.614829      -0.238538         0.091296  0.087360  0.088933   \n",
       "2    0.793768   -0.427185      -0.120496        -0.337593 -0.135517  0.180876   \n",
       "3    0.100237    0.088945       0.071970         0.646950 -0.003737 -0.056476   \n",
       "4   -0.405248    0.204093       0.111987        -0.280533 -0.552207  0.045926   \n",
       "..        ...         ...            ...              ...       ...       ...   \n",
       "173 -0.007924    0.016205      -0.006596         0.148824  0.032053  0.042729   \n",
       "174  0.035870   -0.339823       0.171434         0.139584 -0.001735 -0.037202   \n",
       "175  0.621932    0.124380      -0.289628        -0.027412  0.094686 -0.209746   \n",
       "176  0.415895   -0.128919      -0.250348         0.104226  0.044378 -0.000322   \n",
       "177 -0.691678   -0.273443       0.128688         0.166117 -0.298025  0.039295   \n",
       "\n",
       "     Dilution   Proline  \n",
       "0   -0.016430  0.089355  \n",
       "1   -0.044845  0.017896  \n",
       "2   -0.050358 -0.039421  \n",
       "3   -0.157085  0.021160  \n",
       "4   -0.056540 -0.011405  \n",
       "..        ...       ...  \n",
       "173  0.109068  0.034495  \n",
       "174  0.016845 -0.039199  \n",
       "175  0.085337  0.034372  \n",
       "176 -0.046564  0.136469  \n",
       "177  0.016019  0.019787  \n",
       "\n",
       "[178 rows x 14 columns]"
      ]
     },
     "execution_count": 12,
     "metadata": {},
     "output_type": "execute_result"
    }
   ],
   "source": [
    "pc = pd.DataFrame(pc)\n",
    "pc.columns = list(df1)\n",
    "pc"
   ]
  },
  {
   "cell_type": "code",
   "execution_count": 13,
   "id": "3b1f2191",
   "metadata": {},
   "outputs": [
    {
     "data": {
      "text/plain": [
       "array([9.98087625e-01, 1.73591851e-03, 9.58948998e-05, 5.13200714e-05,\n",
       "       1.29365230e-05, 8.73476385e-06, 2.88762342e-06, 1.56228669e-06,\n",
       "       1.14428924e-06, 8.69067273e-07, 4.64851997e-07, 3.51409235e-07,\n",
       "       2.08896603e-07, 8.14215462e-08])"
      ]
     },
     "execution_count": 13,
     "metadata": {},
     "output_type": "execute_result"
    }
   ],
   "source": [
    "t1=pca.explained_variance_ratio_\n",
    "t1"
   ]
  },
  {
   "cell_type": "code",
   "execution_count": 14,
   "id": "7121cccc",
   "metadata": {},
   "outputs": [
    {
     "data": {
      "text/plain": [
       "99.80876253882408"
      ]
     },
     "execution_count": 14,
     "metadata": {},
     "output_type": "execute_result"
    }
   ],
   "source": [
    "t1[0]*100"
   ]
  },
  {
   "cell_type": "code",
   "execution_count": 15,
   "id": "8251879d",
   "metadata": {},
   "outputs": [
    {
     "data": {
      "text/plain": [
       "1.0000000000000002"
      ]
     },
     "execution_count": 15,
     "metadata": {},
     "output_type": "execute_result"
    }
   ],
   "source": [
    "sum(t1)"
   ]
  },
  {
   "cell_type": "code",
   "execution_count": 16,
   "id": "cfbb74e2",
   "metadata": {},
   "outputs": [
    {
     "data": {
      "text/plain": [
       "Type               99202.030731\n",
       "Alcohol              172.536596\n",
       "Malic                  9.531196\n",
       "Ash                    5.100810\n",
       "Alcalinity             1.285788\n",
       "Magnesium              0.868167\n",
       "Phenols                0.287007\n",
       "Flavanoids             0.155279\n",
       "Nonflavanoids          0.113733\n",
       "Proanthocyanins        0.086378\n",
       "Color                  0.046203\n",
       "Hue                    0.034927\n",
       "Dilution               0.020763\n",
       "Proline                0.008093\n",
       "dtype: float64"
      ]
     },
     "execution_count": 16,
     "metadata": {},
     "output_type": "execute_result"
    }
   ],
   "source": [
    "pc.var()"
   ]
  },
  {
   "cell_type": "code",
   "execution_count": 17,
   "id": "b728a33c",
   "metadata": {},
   "outputs": [],
   "source": [
    "# created a new DataFrame pc2 by selecting the first four principal components from the DataFrame"
   ]
  },
  {
   "cell_type": "code",
   "execution_count": 18,
   "id": "66f177e2",
   "metadata": {},
   "outputs": [
    {
     "data": {
      "text/html": [
       "<div>\n",
       "<style scoped>\n",
       "    .dataframe tbody tr th:only-of-type {\n",
       "        vertical-align: middle;\n",
       "    }\n",
       "\n",
       "    .dataframe tbody tr th {\n",
       "        vertical-align: top;\n",
       "    }\n",
       "\n",
       "    .dataframe thead th {\n",
       "        text-align: right;\n",
       "    }\n",
       "</style>\n",
       "<table border=\"1\" class=\"dataframe\">\n",
       "  <thead>\n",
       "    <tr style=\"text-align: right;\">\n",
       "      <th></th>\n",
       "      <th>Type</th>\n",
       "      <th>Alcohol</th>\n",
       "      <th>Malic</th>\n",
       "      <th>Ash</th>\n",
       "    </tr>\n",
       "  </thead>\n",
       "  <tbody>\n",
       "    <tr>\n",
       "      <th>0</th>\n",
       "      <td>318.564055</td>\n",
       "      <td>21.490773</td>\n",
       "      <td>3.164613</td>\n",
       "      <td>-0.260166</td>\n",
       "    </tr>\n",
       "    <tr>\n",
       "      <th>1</th>\n",
       "      <td>303.098514</td>\n",
       "      <td>-5.366083</td>\n",
       "      <td>6.816992</td>\n",
       "      <td>-1.004978</td>\n",
       "    </tr>\n",
       "    <tr>\n",
       "      <th>2</th>\n",
       "      <td>438.062063</td>\n",
       "      <td>-6.537986</td>\n",
       "      <td>-1.066717</td>\n",
       "      <td>0.977727</td>\n",
       "    </tr>\n",
       "    <tr>\n",
       "      <th>3</th>\n",
       "      <td>733.240711</td>\n",
       "      <td>0.193320</td>\n",
       "      <td>-0.938312</td>\n",
       "      <td>-0.525349</td>\n",
       "    </tr>\n",
       "    <tr>\n",
       "      <th>4</th>\n",
       "      <td>-11.569952</td>\n",
       "      <td>18.487255</td>\n",
       "      <td>-0.424917</td>\n",
       "      <td>1.518823</td>\n",
       "    </tr>\n",
       "    <tr>\n",
       "      <th>...</th>\n",
       "      <td>...</td>\n",
       "      <td>...</td>\n",
       "      <td>...</td>\n",
       "      <td>...</td>\n",
       "    </tr>\n",
       "    <tr>\n",
       "      <th>173</th>\n",
       "      <td>-6.981858</td>\n",
       "      <td>-4.538116</td>\n",
       "      <td>-2.625187</td>\n",
       "      <td>-3.214097</td>\n",
       "    </tr>\n",
       "    <tr>\n",
       "      <th>174</th>\n",
       "      <td>3.129945</td>\n",
       "      <td>2.338236</td>\n",
       "      <td>-4.423240</td>\n",
       "      <td>-1.576971</td>\n",
       "    </tr>\n",
       "    <tr>\n",
       "      <th>175</th>\n",
       "      <td>88.456310</td>\n",
       "      <td>18.779644</td>\n",
       "      <td>-2.423127</td>\n",
       "      <td>-4.874280</td>\n",
       "    </tr>\n",
       "    <tr>\n",
       "      <th>176</th>\n",
       "      <td>93.454472</td>\n",
       "      <td>18.674180</td>\n",
       "      <td>-1.958775</td>\n",
       "      <td>-3.789964</td>\n",
       "    </tr>\n",
       "    <tr>\n",
       "      <th>177</th>\n",
       "      <td>-186.944619</td>\n",
       "      <td>-0.211063</td>\n",
       "      <td>-5.733920</td>\n",
       "      <td>-3.366462</td>\n",
       "    </tr>\n",
       "  </tbody>\n",
       "</table>\n",
       "<p>178 rows × 4 columns</p>\n",
       "</div>"
      ],
      "text/plain": [
       "           Type    Alcohol     Malic       Ash\n",
       "0    318.564055  21.490773  3.164613 -0.260166\n",
       "1    303.098514  -5.366083  6.816992 -1.004978\n",
       "2    438.062063  -6.537986 -1.066717  0.977727\n",
       "3    733.240711   0.193320 -0.938312 -0.525349\n",
       "4    -11.569952  18.487255 -0.424917  1.518823\n",
       "..          ...        ...       ...       ...\n",
       "173   -6.981858  -4.538116 -2.625187 -3.214097\n",
       "174    3.129945   2.338236 -4.423240 -1.576971\n",
       "175   88.456310  18.779644 -2.423127 -4.874280\n",
       "176   93.454472  18.674180 -1.958775 -3.789964\n",
       "177 -186.944619  -0.211063 -5.733920 -3.366462\n",
       "\n",
       "[178 rows x 4 columns]"
      ]
     },
     "execution_count": 18,
     "metadata": {},
     "output_type": "execute_result"
    }
   ],
   "source": [
    "pc2 = pc.iloc[:,0:4]\n",
    "pc2"
   ]
  },
  {
   "cell_type": "code",
   "execution_count": 19,
   "id": "f8cf4483",
   "metadata": {},
   "outputs": [],
   "source": [
    "#assigned the DataFrame pc2 to a new variable X"
   ]
  },
  {
   "cell_type": "code",
   "execution_count": 20,
   "id": "a8467bf7",
   "metadata": {},
   "outputs": [
    {
     "data": {
      "text/html": [
       "<div>\n",
       "<style scoped>\n",
       "    .dataframe tbody tr th:only-of-type {\n",
       "        vertical-align: middle;\n",
       "    }\n",
       "\n",
       "    .dataframe tbody tr th {\n",
       "        vertical-align: top;\n",
       "    }\n",
       "\n",
       "    .dataframe thead th {\n",
       "        text-align: right;\n",
       "    }\n",
       "</style>\n",
       "<table border=\"1\" class=\"dataframe\">\n",
       "  <thead>\n",
       "    <tr style=\"text-align: right;\">\n",
       "      <th></th>\n",
       "      <th>Type</th>\n",
       "      <th>Alcohol</th>\n",
       "      <th>Malic</th>\n",
       "      <th>Ash</th>\n",
       "    </tr>\n",
       "  </thead>\n",
       "  <tbody>\n",
       "    <tr>\n",
       "      <th>0</th>\n",
       "      <td>318.564055</td>\n",
       "      <td>21.490773</td>\n",
       "      <td>3.164613</td>\n",
       "      <td>-0.260166</td>\n",
       "    </tr>\n",
       "    <tr>\n",
       "      <th>1</th>\n",
       "      <td>303.098514</td>\n",
       "      <td>-5.366083</td>\n",
       "      <td>6.816992</td>\n",
       "      <td>-1.004978</td>\n",
       "    </tr>\n",
       "    <tr>\n",
       "      <th>2</th>\n",
       "      <td>438.062063</td>\n",
       "      <td>-6.537986</td>\n",
       "      <td>-1.066717</td>\n",
       "      <td>0.977727</td>\n",
       "    </tr>\n",
       "    <tr>\n",
       "      <th>3</th>\n",
       "      <td>733.240711</td>\n",
       "      <td>0.193320</td>\n",
       "      <td>-0.938312</td>\n",
       "      <td>-0.525349</td>\n",
       "    </tr>\n",
       "    <tr>\n",
       "      <th>4</th>\n",
       "      <td>-11.569952</td>\n",
       "      <td>18.487255</td>\n",
       "      <td>-0.424917</td>\n",
       "      <td>1.518823</td>\n",
       "    </tr>\n",
       "    <tr>\n",
       "      <th>...</th>\n",
       "      <td>...</td>\n",
       "      <td>...</td>\n",
       "      <td>...</td>\n",
       "      <td>...</td>\n",
       "    </tr>\n",
       "    <tr>\n",
       "      <th>173</th>\n",
       "      <td>-6.981858</td>\n",
       "      <td>-4.538116</td>\n",
       "      <td>-2.625187</td>\n",
       "      <td>-3.214097</td>\n",
       "    </tr>\n",
       "    <tr>\n",
       "      <th>174</th>\n",
       "      <td>3.129945</td>\n",
       "      <td>2.338236</td>\n",
       "      <td>-4.423240</td>\n",
       "      <td>-1.576971</td>\n",
       "    </tr>\n",
       "    <tr>\n",
       "      <th>175</th>\n",
       "      <td>88.456310</td>\n",
       "      <td>18.779644</td>\n",
       "      <td>-2.423127</td>\n",
       "      <td>-4.874280</td>\n",
       "    </tr>\n",
       "    <tr>\n",
       "      <th>176</th>\n",
       "      <td>93.454472</td>\n",
       "      <td>18.674180</td>\n",
       "      <td>-1.958775</td>\n",
       "      <td>-3.789964</td>\n",
       "    </tr>\n",
       "    <tr>\n",
       "      <th>177</th>\n",
       "      <td>-186.944619</td>\n",
       "      <td>-0.211063</td>\n",
       "      <td>-5.733920</td>\n",
       "      <td>-3.366462</td>\n",
       "    </tr>\n",
       "  </tbody>\n",
       "</table>\n",
       "<p>178 rows × 4 columns</p>\n",
       "</div>"
      ],
      "text/plain": [
       "           Type    Alcohol     Malic       Ash\n",
       "0    318.564055  21.490773  3.164613 -0.260166\n",
       "1    303.098514  -5.366083  6.816992 -1.004978\n",
       "2    438.062063  -6.537986 -1.066717  0.977727\n",
       "3    733.240711   0.193320 -0.938312 -0.525349\n",
       "4    -11.569952  18.487255 -0.424917  1.518823\n",
       "..          ...        ...       ...       ...\n",
       "173   -6.981858  -4.538116 -2.625187 -3.214097\n",
       "174    3.129945   2.338236 -4.423240 -1.576971\n",
       "175   88.456310  18.779644 -2.423127 -4.874280\n",
       "176   93.454472  18.674180 -1.958775 -3.789964\n",
       "177 -186.944619  -0.211063 -5.733920 -3.366462\n",
       "\n",
       "[178 rows x 4 columns]"
      ]
     },
     "execution_count": 20,
     "metadata": {},
     "output_type": "execute_result"
    }
   ],
   "source": [
    "X = pc2.iloc[:,:]\n",
    "X"
   ]
  },
  {
   "cell_type": "code",
   "execution_count": 21,
   "id": "2c5f6f66",
   "metadata": {},
   "outputs": [],
   "source": [
    "#display Matplotlib plots in a separate interactive window "
   ]
  },
  {
   "cell_type": "code",
   "execution_count": 22,
   "id": "daaaf413",
   "metadata": {},
   "outputs": [],
   "source": [
    "%matplotlib qt\n",
    "import matplotlib.pyplot as plt\n",
    "plt.rcParams['figure.figsize'] = (16,9)"
   ]
  },
  {
   "cell_type": "code",
   "execution_count": 23,
   "id": "a5843395",
   "metadata": {},
   "outputs": [],
   "source": [
    "# importing the Axes3D module from mpl_toolkits.mplot3d and using the warnings module to filter out warnings."
   ]
  },
  {
   "cell_type": "code",
   "execution_count": 24,
   "id": "d1c8fc92",
   "metadata": {},
   "outputs": [],
   "source": [
    "from mpl_toolkits.mplot3d import Axes3D\n",
    "import warnings\n",
    "warnings.filterwarnings('ignore')"
   ]
  },
  {
   "cell_type": "code",
   "execution_count": 25,
   "id": "e3a44ad1",
   "metadata": {},
   "outputs": [],
   "source": [
    "# creating a 3D scatter plot using the Axes3D module from Matplotlib"
   ]
  },
  {
   "cell_type": "code",
   "execution_count": 26,
   "id": "438c960e",
   "metadata": {},
   "outputs": [],
   "source": [
    "fig = plt.figure()\n",
    "ax = Axes3D(fig)\n",
    "ax.scatter(X.iloc[:,0],X.iloc[:,1],X.iloc[:,3])\n",
    "plt.show()"
   ]
  },
  {
   "cell_type": "code",
   "execution_count": 27,
   "id": "c0c236d4",
   "metadata": {},
   "outputs": [],
   "source": [
    "# single linkage using euclidean distance metric"
   ]
  },
  {
   "cell_type": "code",
   "execution_count": 28,
   "id": "3a383907",
   "metadata": {},
   "outputs": [
    {
     "data": {
      "text/plain": [
       "array([0, 0, 0, 2, 0, 2, 0, 0, 0, 0, 2, 0, 0, 0, 2, 0, 0, 0, 3, 0, 0, 0,\n",
       "       0, 0, 0, 0, 0, 0, 0, 0, 0, 2, 0, 0, 0, 0, 0, 0, 0, 0, 0, 0, 0, 0,\n",
       "       0, 0, 0, 0, 0, 0, 0, 0, 0, 4, 0, 0, 0, 0, 0, 0, 0, 0, 0, 0, 0, 0,\n",
       "       0, 0, 0, 0, 0, 0, 0, 0, 0, 0, 0, 0, 0, 0, 0, 0, 0, 0, 0, 0, 0, 0,\n",
       "       0, 0, 0, 0, 0, 0, 0, 1, 0, 0, 0, 0, 0, 0, 0, 0, 0, 0, 0, 0, 0, 0,\n",
       "       0, 0, 0, 0, 0, 0, 0, 0, 0, 0, 0, 0, 0, 0, 0, 0, 0, 0, 0, 0, 0, 0,\n",
       "       0, 0, 0, 0, 0, 0, 0, 0, 0, 0, 0, 0, 0, 0, 0, 0, 0, 0, 0, 0, 0, 0,\n",
       "       0, 0, 0, 0, 0, 0, 0, 0, 0, 0, 0, 0, 0, 0, 0, 0, 0, 0, 0, 0, 0, 0,\n",
       "       0, 0], dtype=int64)"
      ]
     },
     "execution_count": 28,
     "metadata": {},
     "output_type": "execute_result"
    }
   ],
   "source": [
    "from sklearn.cluster import AgglomerativeClustering\n",
    "acs = AgglomerativeClustering(n_clusters=5,affinity='euclidean',linkage='single')\n",
    "Y = acs.fit_predict(X)\n",
    "Y"
   ]
  },
  {
   "cell_type": "code",
   "execution_count": 29,
   "id": "9392000a",
   "metadata": {},
   "outputs": [],
   "source": [
    "# created a new DataFrame Y_new with a column named 'clusters' based on some clustering results.value_counts() method is then used to count the occurrences of each unique value in the 'clusters' column."
   ]
  },
  {
   "cell_type": "code",
   "execution_count": 30,
   "id": "0e9299b4",
   "metadata": {},
   "outputs": [
    {
     "data": {
      "text/plain": [
       "clusters\n",
       "0           170\n",
       "2             5\n",
       "1             1\n",
       "3             1\n",
       "4             1\n",
       "dtype: int64"
      ]
     },
     "execution_count": 30,
     "metadata": {},
     "output_type": "execute_result"
    }
   ],
   "source": [
    "Y_new = pd.DataFrame(Y,columns=['clusters'])\n",
    "Y_new.value_counts()"
   ]
  },
  {
   "cell_type": "code",
   "execution_count": 31,
   "id": "b796f813",
   "metadata": {},
   "outputs": [],
   "source": [
    "#creating a scatter plot using Matplotlib, where the points are colored based on cluster assignments"
   ]
  },
  {
   "cell_type": "code",
   "execution_count": 32,
   "id": "a6905fa8",
   "metadata": {},
   "outputs": [
    {
     "data": {
      "text/plain": [
       "<matplotlib.collections.PathCollection at 0x21522b815b0>"
      ]
     },
     "execution_count": 32,
     "metadata": {},
     "output_type": "execute_result"
    }
   ],
   "source": [
    "plt.figure(figsize=(10, 7))  \n",
    "plt.scatter(X.iloc[:,1], X.iloc[:,2], c=acs.labels_, cmap='rainbow')"
   ]
  },
  {
   "cell_type": "code",
   "execution_count": 33,
   "id": "906e81dd",
   "metadata": {},
   "outputs": [],
   "source": [
    "#creating a DataFrame Y_cluster based on some variable Y and then using value_counts() to count the occurrences of each unique value"
   ]
  },
  {
   "cell_type": "code",
   "execution_count": 34,
   "id": "735d68b7",
   "metadata": {},
   "outputs": [
    {
     "data": {
      "text/plain": [
       "0    170\n",
       "2      5\n",
       "1      1\n",
       "3      1\n",
       "4      1\n",
       "dtype: int64"
      ]
     },
     "execution_count": 34,
     "metadata": {},
     "output_type": "execute_result"
    }
   ],
   "source": [
    "Y_cluster = pd.DataFrame(Y)\n",
    "Y_cluster.value_counts()"
   ]
  },
  {
   "cell_type": "code",
   "execution_count": 35,
   "id": "505b81c4",
   "metadata": {},
   "outputs": [],
   "source": [
    "# single linkage using manhattan distance metric"
   ]
  },
  {
   "cell_type": "code",
   "execution_count": 36,
   "id": "17186bd7",
   "metadata": {},
   "outputs": [
    {
     "data": {
      "text/plain": [
       "array([0, 0, 0, 2, 0, 2, 1, 1, 0, 0, 2, 1, 1, 0, 2, 1, 1, 0, 3, 0, 0, 0,\n",
       "       0, 0, 0, 0, 0, 1, 0, 0, 1, 2, 0, 1, 0, 0, 0, 0, 0, 0, 0, 0, 0, 0,\n",
       "       0, 0, 0, 0, 0, 1, 0, 1, 0, 1, 0, 0, 0, 1, 1, 0, 0, 0, 0, 0, 0, 0,\n",
       "       0, 0, 0, 0, 0, 0, 0, 0, 0, 0, 0, 0, 0, 0, 0, 0, 0, 0, 0, 0, 0, 0,\n",
       "       0, 0, 0, 0, 0, 0, 0, 4, 0, 0, 0, 0, 0, 0, 0, 0, 0, 0, 0, 0, 0, 0,\n",
       "       0, 0, 0, 0, 0, 0, 0, 0, 0, 0, 0, 0, 0, 0, 0, 0, 0, 0, 0, 0, 0, 0,\n",
       "       0, 0, 0, 0, 0, 0, 0, 0, 0, 0, 0, 0, 0, 0, 0, 0, 0, 0, 0, 0, 0, 0,\n",
       "       0, 0, 0, 0, 0, 0, 0, 0, 0, 0, 0, 0, 0, 0, 0, 0, 0, 0, 0, 0, 0, 0,\n",
       "       0, 0], dtype=int64)"
      ]
     },
     "execution_count": 36,
     "metadata": {},
     "output_type": "execute_result"
    }
   ],
   "source": [
    "from sklearn.cluster import AgglomerativeClustering\n",
    "acs1 = AgglomerativeClustering(n_clusters=5,affinity='manhattan',linkage='single')\n",
    "Y = acs1.fit_predict(X)\n",
    "Y"
   ]
  },
  {
   "cell_type": "code",
   "execution_count": 37,
   "id": "f75b7a03",
   "metadata": {},
   "outputs": [],
   "source": [
    "# created a new DataFrame Y_new with a column named 'clusters' based on some clustering results.value_counts() method is then used to count the occurrences of each unique value in the 'clusters' column."
   ]
  },
  {
   "cell_type": "code",
   "execution_count": 38,
   "id": "7cbf8ceb",
   "metadata": {},
   "outputs": [
    {
     "data": {
      "text/plain": [
       "clusters\n",
       "0           157\n",
       "1            14\n",
       "2             5\n",
       "3             1\n",
       "4             1\n",
       "dtype: int64"
      ]
     },
     "execution_count": 38,
     "metadata": {},
     "output_type": "execute_result"
    }
   ],
   "source": [
    "Y_new = pd.DataFrame(Y,columns=['clusters'])\n",
    "Y_new.head()\n",
    "Y_new.value_counts()"
   ]
  },
  {
   "cell_type": "code",
   "execution_count": 39,
   "id": "b999c99a",
   "metadata": {},
   "outputs": [],
   "source": [
    "#creating a scatter plot using Matplotlib, where the points are colored based on cluster assignments"
   ]
  },
  {
   "cell_type": "code",
   "execution_count": 40,
   "id": "30284863",
   "metadata": {},
   "outputs": [
    {
     "data": {
      "text/plain": [
       "<matplotlib.collections.PathCollection at 0x21522bcea90>"
      ]
     },
     "execution_count": 40,
     "metadata": {},
     "output_type": "execute_result"
    }
   ],
   "source": [
    "plt.figure(figsize=(10, 7))  \n",
    "plt.scatter(X.iloc[:,1], X.iloc[:,2], c=acs1.labels_, cmap='rainbow')"
   ]
  },
  {
   "cell_type": "code",
   "execution_count": 41,
   "id": "d0296d99",
   "metadata": {},
   "outputs": [],
   "source": [
    "# single linkage using l1 distance metric"
   ]
  },
  {
   "cell_type": "code",
   "execution_count": 42,
   "id": "0e1cc2cd",
   "metadata": {},
   "outputs": [
    {
     "data": {
      "text/plain": [
       "array([0, 0, 0, 2, 0, 2, 1, 1, 0, 0, 2, 1, 1, 0, 2, 1, 1, 0, 3, 0, 0, 0,\n",
       "       0, 0, 0, 0, 0, 1, 0, 0, 1, 2, 0, 1, 0, 0, 0, 0, 0, 0, 0, 0, 0, 0,\n",
       "       0, 0, 0, 0, 0, 1, 0, 1, 0, 1, 0, 0, 0, 1, 1, 0, 0, 0, 0, 0, 0, 0,\n",
       "       0, 0, 0, 0, 0, 0, 0, 0, 0, 0, 0, 0, 0, 0, 0, 0, 0, 0, 0, 0, 0, 0,\n",
       "       0, 0, 0, 0, 0, 0, 0, 4, 0, 0, 0, 0, 0, 0, 0, 0, 0, 0, 0, 0, 0, 0,\n",
       "       0, 0, 0, 0, 0, 0, 0, 0, 0, 0, 0, 0, 0, 0, 0, 0, 0, 0, 0, 0, 0, 0,\n",
       "       0, 0, 0, 0, 0, 0, 0, 0, 0, 0, 0, 0, 0, 0, 0, 0, 0, 0, 0, 0, 0, 0,\n",
       "       0, 0, 0, 0, 0, 0, 0, 0, 0, 0, 0, 0, 0, 0, 0, 0, 0, 0, 0, 0, 0, 0,\n",
       "       0, 0], dtype=int64)"
      ]
     },
     "execution_count": 42,
     "metadata": {},
     "output_type": "execute_result"
    }
   ],
   "source": [
    "acs2 = AgglomerativeClustering(n_clusters=5,affinity='l1',linkage='single')\n",
    "Y = acs2.fit_predict(X)\n",
    "Y"
   ]
  },
  {
   "cell_type": "code",
   "execution_count": 43,
   "id": "b718ec0e",
   "metadata": {},
   "outputs": [],
   "source": [
    "# created a new DataFrame Y_new with a column named 'clusters' based on some clustering results.value_counts() method is then used to count the occurrences of each unique value in the 'clusters' column."
   ]
  },
  {
   "cell_type": "code",
   "execution_count": 44,
   "id": "e0014b02",
   "metadata": {},
   "outputs": [
    {
     "data": {
      "text/plain": [
       "clusters\n",
       "0           157\n",
       "1            14\n",
       "2             5\n",
       "3             1\n",
       "4             1\n",
       "dtype: int64"
      ]
     },
     "execution_count": 44,
     "metadata": {},
     "output_type": "execute_result"
    }
   ],
   "source": [
    "Y_new = pd.DataFrame(Y,columns=['clusters'])\n",
    "Y_new.value_counts()"
   ]
  },
  {
   "cell_type": "code",
   "execution_count": 45,
   "id": "d8f63acb",
   "metadata": {},
   "outputs": [],
   "source": [
    "#creating a scatter plot using Matplotlib, where the points are colored based on cluster assignments"
   ]
  },
  {
   "cell_type": "code",
   "execution_count": 46,
   "id": "41ab8ace",
   "metadata": {},
   "outputs": [
    {
     "data": {
      "text/plain": [
       "<matplotlib.collections.PathCollection at 0x21522c10340>"
      ]
     },
     "execution_count": 46,
     "metadata": {},
     "output_type": "execute_result"
    }
   ],
   "source": [
    "plt.figure(figsize=(10, 7))  \n",
    "plt.scatter(X.iloc[:,1], X.iloc[:,2], c=acs2.labels_, cmap='rainbow')"
   ]
  },
  {
   "cell_type": "code",
   "execution_count": 47,
   "id": "6243e9f3",
   "metadata": {},
   "outputs": [],
   "source": [
    "# single linkage using l2 distance metric"
   ]
  },
  {
   "cell_type": "code",
   "execution_count": 48,
   "id": "e319e6aa",
   "metadata": {},
   "outputs": [
    {
     "data": {
      "text/plain": [
       "array([0, 0, 0, 2, 0, 2, 0, 0, 0, 0, 2, 0, 0, 0, 2, 0, 0, 0, 3, 0, 0, 0,\n",
       "       0, 0, 0, 0, 0, 0, 0, 0, 0, 2, 0, 0, 0, 0, 0, 0, 0, 0, 0, 0, 0, 0,\n",
       "       0, 0, 0, 0, 0, 0, 0, 0, 0, 4, 0, 0, 0, 0, 0, 0, 0, 0, 0, 0, 0, 0,\n",
       "       0, 0, 0, 0, 0, 0, 0, 0, 0, 0, 0, 0, 0, 0, 0, 0, 0, 0, 0, 0, 0, 0,\n",
       "       0, 0, 0, 0, 0, 0, 0, 1, 0, 0, 0, 0, 0, 0, 0, 0, 0, 0, 0, 0, 0, 0,\n",
       "       0, 0, 0, 0, 0, 0, 0, 0, 0, 0, 0, 0, 0, 0, 0, 0, 0, 0, 0, 0, 0, 0,\n",
       "       0, 0, 0, 0, 0, 0, 0, 0, 0, 0, 0, 0, 0, 0, 0, 0, 0, 0, 0, 0, 0, 0,\n",
       "       0, 0, 0, 0, 0, 0, 0, 0, 0, 0, 0, 0, 0, 0, 0, 0, 0, 0, 0, 0, 0, 0,\n",
       "       0, 0], dtype=int64)"
      ]
     },
     "execution_count": 48,
     "metadata": {},
     "output_type": "execute_result"
    }
   ],
   "source": [
    "acs3 = AgglomerativeClustering(n_clusters=5,affinity='l2',linkage='single')\n",
    "Y = acs3.fit_predict(X)\n",
    "Y"
   ]
  },
  {
   "cell_type": "code",
   "execution_count": 49,
   "id": "d1bc3402",
   "metadata": {},
   "outputs": [],
   "source": [
    "# created a new DataFrame Y_new with a column named 'clusters' based on some clustering results.value_counts() method is then used to count the occurrences of each unique value in the 'clusters' column."
   ]
  },
  {
   "cell_type": "code",
   "execution_count": 50,
   "id": "17f51ec2",
   "metadata": {},
   "outputs": [
    {
     "data": {
      "text/plain": [
       "clusters\n",
       "0           170\n",
       "2             5\n",
       "1             1\n",
       "3             1\n",
       "4             1\n",
       "dtype: int64"
      ]
     },
     "execution_count": 50,
     "metadata": {},
     "output_type": "execute_result"
    }
   ],
   "source": [
    "Y_new = pd.DataFrame(Y,columns=['clusters'])\n",
    "Y_new.value_counts()"
   ]
  },
  {
   "cell_type": "code",
   "execution_count": 51,
   "id": "f340513e",
   "metadata": {},
   "outputs": [],
   "source": [
    "#creating a scatter plot using Matplotlib, where the points are colored based on cluster assignments"
   ]
  },
  {
   "cell_type": "code",
   "execution_count": 52,
   "id": "a98ca631",
   "metadata": {},
   "outputs": [
    {
     "data": {
      "text/plain": [
       "<matplotlib.collections.PathCollection at 0x21522c5dc70>"
      ]
     },
     "execution_count": 52,
     "metadata": {},
     "output_type": "execute_result"
    }
   ],
   "source": [
    "plt.figure(figsize=(10, 7))  \n",
    "plt.scatter(X.iloc[:,1], X.iloc[:,2], c=acs3.labels_, cmap='rainbow')"
   ]
  },
  {
   "cell_type": "code",
   "execution_count": 53,
   "id": "42446a78",
   "metadata": {},
   "outputs": [],
   "source": [
    "# single linkage using cosine distance metric"
   ]
  },
  {
   "cell_type": "code",
   "execution_count": 54,
   "id": "6c36bd28",
   "metadata": {},
   "outputs": [
    {
     "data": {
      "text/plain": [
       "array([2, 2, 2, 2, 3, 2, 2, 2, 2, 2, 2, 2, 2, 2, 2, 2, 2, 2, 2, 2, 2, 2,\n",
       "       2, 2, 2, 2, 2, 2, 2, 2, 2, 2, 2, 2, 2, 2, 2, 2, 2, 4, 2, 2, 2, 0,\n",
       "       2, 2, 2, 2, 2, 2, 2, 2, 2, 2, 2, 2, 2, 2, 2, 0, 0, 0, 0, 0, 0, 0,\n",
       "       0, 0, 4, 3, 2, 0, 0, 2, 2, 0, 0, 0, 4, 0, 0, 0, 0, 0, 0, 0, 0, 0,\n",
       "       0, 0, 0, 0, 0, 0, 0, 2, 0, 0, 0, 0, 0, 0, 0, 0, 0, 0, 0, 0, 0, 0,\n",
       "       0, 0, 0, 0, 0, 0, 0, 0, 0, 0, 0, 0, 0, 0, 0, 0, 0, 0, 0, 0, 0, 0,\n",
       "       0, 0, 0, 0, 0, 0, 0, 0, 0, 2, 0, 0, 2, 2, 0, 0, 0, 0, 0, 0, 0, 0,\n",
       "       0, 0, 0, 2, 0, 0, 0, 0, 0, 0, 0, 0, 0, 0, 1, 0, 0, 0, 0, 0, 1, 2,\n",
       "       2, 0], dtype=int64)"
      ]
     },
     "execution_count": 54,
     "metadata": {},
     "output_type": "execute_result"
    }
   ],
   "source": [
    "acs4 = AgglomerativeClustering(n_clusters=5,affinity='cosine',linkage='single')\n",
    "Y = acs4.fit_predict(X)\n",
    "Y"
   ]
  },
  {
   "cell_type": "code",
   "execution_count": 55,
   "id": "20f8da34",
   "metadata": {},
   "outputs": [],
   "source": [
    "# created a new DataFrame Y_new with a column named 'clusters' based on some clustering results.value_counts() method is then used to count the occurrences of each unique value in the 'clusters' column."
   ]
  },
  {
   "cell_type": "code",
   "execution_count": 56,
   "id": "36670bef",
   "metadata": {},
   "outputs": [
    {
     "data": {
      "text/plain": [
       "clusters\n",
       "0           105\n",
       "2            66\n",
       "4             3\n",
       "1             2\n",
       "3             2\n",
       "dtype: int64"
      ]
     },
     "execution_count": 56,
     "metadata": {},
     "output_type": "execute_result"
    }
   ],
   "source": [
    "Y_new = pd.DataFrame(Y,columns=['clusters'])\n",
    "Y_new.value_counts()"
   ]
  },
  {
   "cell_type": "code",
   "execution_count": 57,
   "id": "9dd78d02",
   "metadata": {},
   "outputs": [],
   "source": [
    "#creating a scatter plot using Matplotlib, where the points are colored based on cluster assignments"
   ]
  },
  {
   "cell_type": "code",
   "execution_count": 58,
   "id": "d167df8c",
   "metadata": {},
   "outputs": [
    {
     "data": {
      "text/plain": [
       "<matplotlib.collections.PathCollection at 0x21516c90640>"
      ]
     },
     "execution_count": 58,
     "metadata": {},
     "output_type": "execute_result"
    }
   ],
   "source": [
    "plt.figure(figsize=(10, 7))  \n",
    "plt.scatter(X.iloc[:,1], X.iloc[:,2], c=acs4.labels_, cmap='rainbow')"
   ]
  },
  {
   "cell_type": "code",
   "execution_count": 59,
   "id": "5bebe340",
   "metadata": {},
   "outputs": [],
   "source": [
    "#average linkage using euclidean distance metric"
   ]
  },
  {
   "cell_type": "code",
   "execution_count": 60,
   "id": "c1179565",
   "metadata": {},
   "outputs": [
    {
     "data": {
      "text/plain": [
       "array([4, 4, 2, 0, 3, 0, 2, 2, 4, 4, 0, 2, 2, 2, 0, 2, 2, 4, 0, 3, 3, 3,\n",
       "       4, 4, 3, 3, 2, 2, 3, 4, 2, 0, 4, 2, 4, 3, 3, 4, 4, 3, 3, 4, 4, 3,\n",
       "       3, 4, 4, 4, 4, 2, 2, 2, 2, 2, 4, 4, 4, 2, 2, 1, 3, 1, 1, 1, 1, 3,\n",
       "       1, 1, 3, 3, 3, 1, 1, 4, 3, 1, 1, 1, 3, 1, 1, 3, 1, 1, 1, 1, 1, 1,\n",
       "       3, 1, 1, 1, 1, 1, 1, 4, 1, 1, 3, 1, 3, 1, 1, 1, 3, 1, 1, 1, 1, 3,\n",
       "       1, 1, 1, 1, 1, 1, 1, 1, 1, 1, 1, 1, 1, 1, 1, 1, 1, 1, 1, 1, 1, 1,\n",
       "       1, 1, 3, 3, 3, 1, 1, 1, 1, 3, 1, 1, 3, 3, 1, 1, 3, 1, 1, 1, 1, 3,\n",
       "       1, 3, 1, 3, 3, 1, 1, 3, 1, 3, 1, 1, 3, 3, 3, 1, 1, 1, 3, 3, 3, 3,\n",
       "       3, 1], dtype=int64)"
      ]
     },
     "execution_count": 60,
     "metadata": {},
     "output_type": "execute_result"
    }
   ],
   "source": [
    "aca = AgglomerativeClustering(n_clusters=5,affinity='euclidean',linkage='average')\n",
    "Y = aca.fit_predict(X)\n",
    "Y"
   ]
  },
  {
   "cell_type": "code",
   "execution_count": 61,
   "id": "f3f741f8",
   "metadata": {},
   "outputs": [],
   "source": [
    "# created a new DataFrame Y_new with a column named 'clusters' based on some clustering results.value_counts() method is then used to count the occurrences of each unique value in the 'clusters' column."
   ]
  },
  {
   "cell_type": "code",
   "execution_count": 62,
   "id": "60617b0f",
   "metadata": {},
   "outputs": [
    {
     "data": {
      "text/plain": [
       "1    83\n",
       "3    47\n",
       "4    23\n",
       "2    19\n",
       "0     6\n",
       "dtype: int64"
      ]
     },
     "execution_count": 62,
     "metadata": {},
     "output_type": "execute_result"
    }
   ],
   "source": [
    "Y_new = pd.DataFrame(Y)\n",
    "Y_new.value_counts()"
   ]
  },
  {
   "cell_type": "code",
   "execution_count": 63,
   "id": "7a254bac",
   "metadata": {},
   "outputs": [],
   "source": [
    "#creating a scatter plot using Matplotlib, where the points are colored based on cluster assignments"
   ]
  },
  {
   "cell_type": "code",
   "execution_count": 64,
   "id": "86b946bb",
   "metadata": {},
   "outputs": [
    {
     "data": {
      "text/plain": [
       "<matplotlib.collections.PathCollection at 0x21516cd0ee0>"
      ]
     },
     "execution_count": 64,
     "metadata": {},
     "output_type": "execute_result"
    }
   ],
   "source": [
    "plt.figure(figsize=(10,7))\n",
    "plt.scatter(X.iloc[:,0],X.iloc[:,2],c=aca.labels_,cmap='rainbow')"
   ]
  },
  {
   "cell_type": "code",
   "execution_count": 65,
   "id": "b5b440e7",
   "metadata": {},
   "outputs": [],
   "source": [
    "#average linkage using manhattan distance metric"
   ]
  },
  {
   "cell_type": "code",
   "execution_count": 66,
   "id": "a4e0a733",
   "metadata": {},
   "outputs": [
    {
     "data": {
      "text/plain": [
       "array([0, 0, 3, 1, 4, 1, 3, 3, 0, 0, 1, 3, 3, 3, 1, 3, 3, 0, 1, 0, 4, 4,\n",
       "       0, 0, 0, 0, 3, 3, 0, 0, 3, 1, 0, 3, 0, 0, 0, 0, 0, 4, 4, 0, 0, 4,\n",
       "       0, 0, 0, 0, 0, 3, 3, 3, 3, 3, 0, 0, 0, 3, 3, 2, 4, 2, 4, 2, 2, 4,\n",
       "       2, 2, 4, 4, 0, 2, 2, 0, 0, 2, 2, 2, 4, 2, 2, 4, 4, 2, 2, 2, 2, 4,\n",
       "       4, 4, 2, 2, 2, 2, 2, 0, 4, 2, 4, 2, 4, 4, 2, 2, 4, 2, 2, 2, 2, 4,\n",
       "       4, 2, 4, 2, 2, 2, 2, 2, 2, 4, 4, 2, 2, 2, 2, 2, 2, 2, 2, 4, 4, 2,\n",
       "       4, 4, 4, 4, 4, 2, 4, 4, 4, 4, 2, 4, 0, 0, 2, 4, 4, 4, 2, 2, 2, 4,\n",
       "       4, 4, 2, 0, 4, 4, 2, 4, 4, 4, 4, 2, 4, 4, 4, 4, 2, 2, 4, 4, 4, 0,\n",
       "       0, 4], dtype=int64)"
      ]
     },
     "execution_count": 66,
     "metadata": {},
     "output_type": "execute_result"
    }
   ],
   "source": [
    "aca1 = AgglomerativeClustering(n_clusters=5,affinity='manhattan',linkage='average')\n",
    "Y = aca1.fit_predict(X)\n",
    "Y"
   ]
  },
  {
   "cell_type": "code",
   "execution_count": 67,
   "id": "aa9887f4",
   "metadata": {},
   "outputs": [],
   "source": [
    "# created a new DataFrame Y_new with a column named 'clusters' based on some clustering results.value_counts() method is then used to count the occurrences of each unique value in the 'clusters' column."
   ]
  },
  {
   "cell_type": "code",
   "execution_count": 68,
   "id": "143ca58c",
   "metadata": {},
   "outputs": [
    {
     "data": {
      "text/plain": [
       "clusters\n",
       "4           59\n",
       "2           57\n",
       "0           37\n",
       "3           19\n",
       "1            6\n",
       "dtype: int64"
      ]
     },
     "execution_count": 68,
     "metadata": {},
     "output_type": "execute_result"
    }
   ],
   "source": [
    "Y_new = pd.DataFrame(Y,columns=['clusters'])\n",
    "Y_new.value_counts()"
   ]
  },
  {
   "cell_type": "code",
   "execution_count": 69,
   "id": "cec8805c",
   "metadata": {},
   "outputs": [],
   "source": [
    "#creating a scatter plot using Matplotlib, where the points are colored based on cluster assignments"
   ]
  },
  {
   "cell_type": "code",
   "execution_count": 70,
   "id": "479521ce",
   "metadata": {},
   "outputs": [
    {
     "data": {
      "text/plain": [
       "<matplotlib.collections.PathCollection at 0x21516d205b0>"
      ]
     },
     "execution_count": 70,
     "metadata": {},
     "output_type": "execute_result"
    }
   ],
   "source": [
    "plt.figure(figsize=(10, 7))  \n",
    "plt.scatter(X.iloc[:,1], X.iloc[:,2], c=aca1.labels_, cmap='rainbow')"
   ]
  },
  {
   "cell_type": "code",
   "execution_count": 71,
   "id": "f7f91b24",
   "metadata": {},
   "outputs": [],
   "source": [
    "#average linkage using l1 distance metric"
   ]
  },
  {
   "cell_type": "code",
   "execution_count": 72,
   "id": "37fa331c",
   "metadata": {},
   "outputs": [
    {
     "data": {
      "text/plain": [
       "array([0, 0, 3, 1, 4, 1, 3, 3, 0, 0, 1, 3, 3, 3, 1, 3, 3, 0, 1, 0, 4, 4,\n",
       "       0, 0, 0, 0, 3, 3, 0, 0, 3, 1, 0, 3, 0, 0, 0, 0, 0, 4, 4, 0, 0, 4,\n",
       "       0, 0, 0, 0, 0, 3, 3, 3, 3, 3, 0, 0, 0, 3, 3, 2, 4, 2, 4, 2, 2, 4,\n",
       "       2, 2, 4, 4, 0, 2, 2, 0, 0, 2, 2, 2, 4, 2, 2, 4, 4, 2, 2, 2, 2, 4,\n",
       "       4, 4, 2, 2, 2, 2, 2, 0, 4, 2, 4, 2, 4, 4, 2, 2, 4, 2, 2, 2, 2, 4,\n",
       "       4, 2, 4, 2, 2, 2, 2, 2, 2, 4, 4, 2, 2, 2, 2, 2, 2, 2, 2, 4, 4, 2,\n",
       "       4, 4, 4, 4, 4, 2, 4, 4, 4, 4, 2, 4, 0, 0, 2, 4, 4, 4, 2, 2, 2, 4,\n",
       "       4, 4, 2, 0, 4, 4, 2, 4, 4, 4, 4, 2, 4, 4, 4, 4, 2, 2, 4, 4, 4, 0,\n",
       "       0, 4], dtype=int64)"
      ]
     },
     "execution_count": 72,
     "metadata": {},
     "output_type": "execute_result"
    }
   ],
   "source": [
    "aca2 = AgglomerativeClustering(n_clusters=5,affinity='l1',linkage='average')\n",
    "Y = aca2.fit_predict(X)\n",
    "Y"
   ]
  },
  {
   "cell_type": "code",
   "execution_count": 73,
   "id": "4721a866",
   "metadata": {},
   "outputs": [],
   "source": [
    "# created a new DataFrame Y_new with a column named 'clusters' based on some clustering results.value_counts() method is then used to count the occurrences of each unique value in the 'clusters' column."
   ]
  },
  {
   "cell_type": "code",
   "execution_count": 74,
   "id": "9eb2ae09",
   "metadata": {},
   "outputs": [
    {
     "data": {
      "text/plain": [
       "clusters\n",
       "4           59\n",
       "2           57\n",
       "0           37\n",
       "3           19\n",
       "1            6\n",
       "dtype: int64"
      ]
     },
     "execution_count": 74,
     "metadata": {},
     "output_type": "execute_result"
    }
   ],
   "source": [
    "Y_new = pd.DataFrame(Y,columns=['clusters'])\n",
    "Y_new.value_counts()"
   ]
  },
  {
   "cell_type": "code",
   "execution_count": 75,
   "id": "59b59cf5",
   "metadata": {},
   "outputs": [],
   "source": [
    "#creating a scatter plot using Matplotlib, where the points are colored based on cluster assignments"
   ]
  },
  {
   "cell_type": "code",
   "execution_count": 76,
   "id": "eb9708a7",
   "metadata": {},
   "outputs": [
    {
     "data": {
      "text/plain": [
       "<matplotlib.collections.PathCollection at 0x21516d62fa0>"
      ]
     },
     "execution_count": 76,
     "metadata": {},
     "output_type": "execute_result"
    }
   ],
   "source": [
    "plt.figure(figsize=(10, 7))  \n",
    "plt.scatter(X.iloc[:,1], X.iloc[:,2], c=aca2.labels_, cmap='rainbow')"
   ]
  },
  {
   "cell_type": "code",
   "execution_count": 77,
   "id": "3b56e6f7",
   "metadata": {},
   "outputs": [],
   "source": [
    "#average linkage using l2 distance metric"
   ]
  },
  {
   "cell_type": "code",
   "execution_count": 78,
   "id": "db47da35",
   "metadata": {},
   "outputs": [
    {
     "data": {
      "text/plain": [
       "array([4, 4, 2, 0, 3, 0, 2, 2, 4, 4, 0, 2, 2, 2, 0, 2, 2, 4, 0, 3, 3, 3,\n",
       "       4, 4, 3, 3, 2, 2, 3, 4, 2, 0, 4, 2, 4, 3, 3, 4, 4, 3, 3, 4, 4, 3,\n",
       "       3, 4, 4, 4, 4, 2, 2, 2, 2, 2, 4, 4, 4, 2, 2, 1, 3, 1, 1, 1, 1, 3,\n",
       "       1, 1, 3, 3, 3, 1, 1, 4, 3, 1, 1, 1, 3, 1, 1, 3, 1, 1, 1, 1, 1, 1,\n",
       "       3, 1, 1, 1, 1, 1, 1, 4, 1, 1, 3, 1, 3, 1, 1, 1, 3, 1, 1, 1, 1, 3,\n",
       "       1, 1, 1, 1, 1, 1, 1, 1, 1, 1, 1, 1, 1, 1, 1, 1, 1, 1, 1, 1, 1, 1,\n",
       "       1, 1, 3, 3, 3, 1, 1, 1, 1, 3, 1, 1, 3, 3, 1, 1, 3, 1, 1, 1, 1, 3,\n",
       "       1, 3, 1, 3, 3, 1, 1, 3, 1, 3, 1, 1, 3, 3, 3, 1, 1, 1, 3, 3, 3, 3,\n",
       "       3, 1], dtype=int64)"
      ]
     },
     "execution_count": 78,
     "metadata": {},
     "output_type": "execute_result"
    }
   ],
   "source": [
    "aca3 = AgglomerativeClustering(n_clusters=5,affinity='l2',linkage='average')\n",
    "Y = aca3.fit_predict(X)\n",
    "Y"
   ]
  },
  {
   "cell_type": "code",
   "execution_count": 79,
   "id": "672580bf",
   "metadata": {},
   "outputs": [],
   "source": [
    "# created a new DataFrame Y_new with a column named 'clusters' based on some clustering results.value_counts() method is then used to count the occurrences of each unique value in the 'clusters' column."
   ]
  },
  {
   "cell_type": "code",
   "execution_count": 80,
   "id": "6cedd559",
   "metadata": {},
   "outputs": [
    {
     "data": {
      "text/plain": [
       "clusters\n",
       "1           83\n",
       "3           47\n",
       "4           23\n",
       "2           19\n",
       "0            6\n",
       "dtype: int64"
      ]
     },
     "execution_count": 80,
     "metadata": {},
     "output_type": "execute_result"
    }
   ],
   "source": [
    "Y_new = pd.DataFrame(Y,columns=['clusters'])\n",
    "Y_new.value_counts()"
   ]
  },
  {
   "cell_type": "code",
   "execution_count": 81,
   "id": "d14a6338",
   "metadata": {},
   "outputs": [],
   "source": [
    "#creating a scatter plot using Matplotlib, where the points are colored based on cluster assignments"
   ]
  },
  {
   "cell_type": "code",
   "execution_count": 82,
   "id": "5d9499e6",
   "metadata": {},
   "outputs": [
    {
     "data": {
      "text/plain": [
       "<matplotlib.collections.PathCollection at 0x21529e2b460>"
      ]
     },
     "execution_count": 82,
     "metadata": {},
     "output_type": "execute_result"
    }
   ],
   "source": [
    "plt.figure(figsize=(10, 7))  \n",
    "plt.scatter(X.iloc[:,1], X.iloc[:,2], c=aca3.labels_, cmap='rainbow')"
   ]
  },
  {
   "cell_type": "code",
   "execution_count": 83,
   "id": "f931be1c",
   "metadata": {},
   "outputs": [],
   "source": [
    "#average linkage using cosine distance metric"
   ]
  },
  {
   "cell_type": "code",
   "execution_count": 84,
   "id": "450a62ba",
   "metadata": {},
   "outputs": [
    {
     "data": {
      "text/plain": [
       "array([1, 1, 1, 1, 4, 1, 1, 1, 1, 1, 1, 1, 1, 1, 1, 1, 1, 1, 1, 1, 1, 1,\n",
       "       1, 1, 1, 1, 1, 1, 1, 1, 1, 1, 1, 1, 1, 1, 1, 1, 1, 2, 1, 1, 1, 0,\n",
       "       1, 1, 1, 1, 1, 1, 1, 1, 1, 1, 1, 1, 1, 1, 1, 0, 0, 0, 0, 0, 0, 0,\n",
       "       0, 0, 2, 4, 1, 0, 0, 1, 1, 0, 0, 0, 2, 0, 0, 0, 0, 0, 0, 0, 0, 0,\n",
       "       0, 0, 0, 0, 0, 0, 0, 1, 0, 0, 0, 0, 0, 0, 0, 0, 0, 0, 0, 0, 0, 0,\n",
       "       0, 0, 0, 0, 0, 0, 0, 0, 0, 0, 0, 0, 0, 0, 0, 0, 0, 0, 0, 0, 0, 0,\n",
       "       0, 0, 0, 0, 0, 0, 0, 0, 0, 1, 0, 0, 1, 1, 0, 0, 0, 0, 0, 0, 0, 0,\n",
       "       0, 0, 0, 1, 0, 0, 0, 0, 0, 0, 0, 0, 0, 0, 3, 0, 0, 0, 0, 0, 3, 1,\n",
       "       1, 0], dtype=int64)"
      ]
     },
     "execution_count": 84,
     "metadata": {},
     "output_type": "execute_result"
    }
   ],
   "source": [
    "aca4 = AgglomerativeClustering(n_clusters=5,affinity='cosine',linkage='average')\n",
    "Y = aca4.fit_predict(X)\n",
    "Y"
   ]
  },
  {
   "cell_type": "code",
   "execution_count": 85,
   "id": "1a5e761a",
   "metadata": {},
   "outputs": [],
   "source": [
    "# created a new DataFrame Y_new with a column named 'clusters' based on some clustering results.value_counts() method is then used to count the occurrences of each unique value in the 'clusters' column."
   ]
  },
  {
   "cell_type": "code",
   "execution_count": 86,
   "id": "56971a7c",
   "metadata": {},
   "outputs": [
    {
     "data": {
      "text/plain": [
       "clusters\n",
       "0           105\n",
       "1            66\n",
       "2             3\n",
       "3             2\n",
       "4             2\n",
       "dtype: int64"
      ]
     },
     "execution_count": 86,
     "metadata": {},
     "output_type": "execute_result"
    }
   ],
   "source": [
    "Y_new = pd.DataFrame(Y,columns=['clusters'])\n",
    "Y_new.value_counts()"
   ]
  },
  {
   "cell_type": "code",
   "execution_count": 87,
   "id": "6194eea8",
   "metadata": {},
   "outputs": [],
   "source": [
    "#creating a scatter plot using Matplotlib, where the points are colored based on cluster assignments"
   ]
  },
  {
   "cell_type": "code",
   "execution_count": 88,
   "id": "d9d3dc21",
   "metadata": {},
   "outputs": [
    {
     "data": {
      "text/plain": [
       "<matplotlib.collections.PathCollection at 0x21529e5c0d0>"
      ]
     },
     "execution_count": 88,
     "metadata": {},
     "output_type": "execute_result"
    }
   ],
   "source": [
    "plt.figure(figsize=(10, 7))  \n",
    "plt.scatter(X.iloc[:,1], X.iloc[:,2], c=aca4.labels_, cmap='rainbow')"
   ]
  },
  {
   "cell_type": "code",
   "execution_count": 89,
   "id": "55bde81a",
   "metadata": {},
   "outputs": [],
   "source": [
    "# complete linkage using euclidean distance metric"
   ]
  },
  {
   "cell_type": "code",
   "execution_count": 90,
   "id": "7fc3fa48",
   "metadata": {},
   "outputs": [
    {
     "data": {
      "text/plain": [
       "array([0, 0, 0, 3, 2, 3, 0, 0, 0, 0, 3, 0, 0, 0, 3, 0, 0, 0, 3, 2, 2, 2,\n",
       "       0, 0, 2, 2, 0, 0, 2, 0, 0, 3, 2, 0, 0, 2, 2, 0, 0, 2, 2, 0, 0, 1,\n",
       "       2, 0, 0, 2, 0, 0, 0, 0, 0, 0, 0, 0, 2, 0, 0, 1, 1, 1, 1, 4, 4, 1,\n",
       "       1, 1, 2, 2, 2, 4, 1, 2, 2, 4, 4, 1, 2, 1, 4, 2, 1, 1, 1, 1, 1, 1,\n",
       "       1, 1, 1, 1, 1, 4, 4, 2, 1, 4, 1, 4, 2, 1, 4, 4, 1, 4, 1, 1, 4, 1,\n",
       "       1, 4, 1, 4, 4, 4, 1, 4, 4, 1, 1, 1, 4, 4, 4, 4, 4, 1, 4, 1, 1, 1,\n",
       "       1, 1, 1, 1, 2, 1, 1, 1, 1, 2, 1, 1, 2, 2, 4, 1, 1, 1, 1, 1, 4, 1,\n",
       "       1, 2, 1, 2, 1, 1, 1, 1, 1, 1, 1, 1, 1, 1, 2, 1, 1, 1, 1, 2, 2, 2,\n",
       "       2, 1], dtype=int64)"
      ]
     },
     "execution_count": 90,
     "metadata": {},
     "output_type": "execute_result"
    }
   ],
   "source": [
    "acc = AgglomerativeClustering(n_clusters=5,affinity='euclidean',linkage='complete')\n",
    "Y = acc.fit_predict(X)\n",
    "Y"
   ]
  },
  {
   "cell_type": "code",
   "execution_count": 91,
   "id": "ea73df42",
   "metadata": {},
   "outputs": [],
   "source": [
    "# created a new DataFrame Y_new with a column named 'clusters' based on some clustering results.value_counts() method is then used to count the occurrences of each unique value in the 'clusters' column."
   ]
  },
  {
   "cell_type": "code",
   "execution_count": 92,
   "id": "2f0d6005",
   "metadata": {},
   "outputs": [
    {
     "data": {
      "text/plain": [
       "clusters\n",
       "1           72\n",
       "0           37\n",
       "2           35\n",
       "4           28\n",
       "3            6\n",
       "dtype: int64"
      ]
     },
     "execution_count": 92,
     "metadata": {},
     "output_type": "execute_result"
    }
   ],
   "source": [
    "Y_new = pd.DataFrame(Y,columns=['clusters'])\n",
    "Y_new.value_counts()"
   ]
  },
  {
   "cell_type": "code",
   "execution_count": 93,
   "id": "1d3483e5",
   "metadata": {},
   "outputs": [],
   "source": [
    "#creating a scatter plot using Matplotlib, where the points are colored based on cluster assignments"
   ]
  },
  {
   "cell_type": "code",
   "execution_count": 94,
   "id": "0f0ffe83",
   "metadata": {},
   "outputs": [
    {
     "data": {
      "text/plain": [
       "<matplotlib.collections.PathCollection at 0x21529eb84f0>"
      ]
     },
     "execution_count": 94,
     "metadata": {},
     "output_type": "execute_result"
    }
   ],
   "source": [
    "plt.figure(figsize=(10,9))\n",
    "plt.scatter(X.iloc[:,1],X.iloc[:,3],c=acc.labels_,cmap='rainbow')"
   ]
  },
  {
   "cell_type": "code",
   "execution_count": 95,
   "id": "f09eb582",
   "metadata": {},
   "outputs": [],
   "source": [
    "# complete linkage using manhattan distance metric"
   ]
  },
  {
   "cell_type": "code",
   "execution_count": 96,
   "id": "fc2d6a80",
   "metadata": {},
   "outputs": [
    {
     "data": {
      "text/plain": [
       "array([1, 1, 1, 3, 4, 3, 1, 1, 1, 1, 3, 1, 1, 1, 3, 1, 1, 1, 3, 2, 4, 4,\n",
       "       1, 1, 2, 2, 1, 1, 2, 1, 1, 3, 2, 1, 1, 2, 2, 1, 1, 4, 4, 1, 1, 4,\n",
       "       2, 1, 1, 2, 1, 1, 1, 1, 1, 1, 1, 1, 2, 1, 1, 0, 4, 0, 0, 0, 0, 4,\n",
       "       0, 0, 4, 4, 2, 0, 0, 2, 2, 0, 0, 0, 4, 0, 0, 4, 0, 0, 0, 0, 0, 0,\n",
       "       4, 0, 0, 0, 0, 0, 0, 2, 0, 0, 4, 0, 4, 0, 0, 0, 4, 0, 0, 0, 0, 4,\n",
       "       0, 0, 0, 0, 0, 0, 0, 0, 0, 0, 0, 0, 0, 0, 0, 0, 0, 0, 0, 0, 0, 0,\n",
       "       0, 0, 4, 4, 4, 0, 0, 0, 0, 4, 0, 0, 2, 2, 0, 0, 4, 0, 0, 0, 0, 4,\n",
       "       0, 4, 0, 2, 4, 0, 0, 4, 0, 4, 0, 0, 4, 4, 4, 0, 0, 0, 4, 4, 4, 2,\n",
       "       2, 0], dtype=int64)"
      ]
     },
     "execution_count": 96,
     "metadata": {},
     "output_type": "execute_result"
    }
   ],
   "source": [
    "acc1 = AgglomerativeClustering(n_clusters=5,affinity='manhattan',linkage='complete')\n",
    "Y = acc1.fit_predict(X)\n",
    "Y"
   ]
  },
  {
   "cell_type": "code",
   "execution_count": 97,
   "id": "8036f95b",
   "metadata": {},
   "outputs": [],
   "source": [
    "# created a new DataFrame Y_new with a column named 'clusters' based on some clustering results.value_counts() method is then used to count the occurrences of each unique value in the 'clusters' column."
   ]
  },
  {
   "cell_type": "code",
   "execution_count": 98,
   "id": "27ff7d8c",
   "metadata": {},
   "outputs": [
    {
     "data": {
      "text/plain": [
       "clusters\n",
       "0           83\n",
       "1           37\n",
       "4           33\n",
       "2           19\n",
       "3            6\n",
       "dtype: int64"
      ]
     },
     "execution_count": 98,
     "metadata": {},
     "output_type": "execute_result"
    }
   ],
   "source": [
    "Y_new = pd.DataFrame(Y,columns=['clusters'])\n",
    "Y_new.value_counts()"
   ]
  },
  {
   "cell_type": "code",
   "execution_count": 99,
   "id": "ba3de438",
   "metadata": {},
   "outputs": [],
   "source": [
    "#creating a scatter plot using Matplotlib, where the points are colored based on cluster assignments"
   ]
  },
  {
   "cell_type": "code",
   "execution_count": 100,
   "id": "97c3414a",
   "metadata": {},
   "outputs": [
    {
     "data": {
      "text/plain": [
       "<matplotlib.collections.PathCollection at 0x21529efe700>"
      ]
     },
     "execution_count": 100,
     "metadata": {},
     "output_type": "execute_result"
    }
   ],
   "source": [
    "plt.figure(figsize=(10, 7))  \n",
    "plt.scatter(X.iloc[:,1], X.iloc[:,2], c=acc1.labels_, cmap='rainbow')"
   ]
  },
  {
   "cell_type": "code",
   "execution_count": 101,
   "id": "8b345e28",
   "metadata": {},
   "outputs": [],
   "source": [
    "# complete linkage using l1 distance metric"
   ]
  },
  {
   "cell_type": "code",
   "execution_count": 102,
   "id": "05c7038c",
   "metadata": {},
   "outputs": [
    {
     "data": {
      "text/plain": [
       "array([1, 1, 1, 3, 4, 3, 1, 1, 1, 1, 3, 1, 1, 1, 3, 1, 1, 1, 3, 2, 4, 4,\n",
       "       1, 1, 2, 2, 1, 1, 2, 1, 1, 3, 2, 1, 1, 2, 2, 1, 1, 4, 4, 1, 1, 4,\n",
       "       2, 1, 1, 2, 1, 1, 1, 1, 1, 1, 1, 1, 2, 1, 1, 0, 4, 0, 0, 0, 0, 4,\n",
       "       0, 0, 4, 4, 2, 0, 0, 2, 2, 0, 0, 0, 4, 0, 0, 4, 0, 0, 0, 0, 0, 0,\n",
       "       4, 0, 0, 0, 0, 0, 0, 2, 0, 0, 4, 0, 4, 0, 0, 0, 4, 0, 0, 0, 0, 4,\n",
       "       0, 0, 0, 0, 0, 0, 0, 0, 0, 0, 0, 0, 0, 0, 0, 0, 0, 0, 0, 0, 0, 0,\n",
       "       0, 0, 4, 4, 4, 0, 0, 0, 0, 4, 0, 0, 2, 2, 0, 0, 4, 0, 0, 0, 0, 4,\n",
       "       0, 4, 0, 2, 4, 0, 0, 4, 0, 4, 0, 0, 4, 4, 4, 0, 0, 0, 4, 4, 4, 2,\n",
       "       2, 0], dtype=int64)"
      ]
     },
     "execution_count": 102,
     "metadata": {},
     "output_type": "execute_result"
    }
   ],
   "source": [
    "acc2 = AgglomerativeClustering(n_clusters=5,affinity='l1',linkage='complete')\n",
    "Y = acc2.fit_predict(X)\n",
    "Y"
   ]
  },
  {
   "cell_type": "code",
   "execution_count": 103,
   "id": "ff2f51be",
   "metadata": {},
   "outputs": [],
   "source": [
    "# created a new DataFrame Y_new with a column named 'clusters' based on some clustering results.value_counts() method is then used to count the occurrences of each unique value in the 'clusters' column."
   ]
  },
  {
   "cell_type": "code",
   "execution_count": 104,
   "id": "ba729043",
   "metadata": {},
   "outputs": [
    {
     "data": {
      "text/plain": [
       "clusters\n",
       "0           83\n",
       "1           37\n",
       "4           33\n",
       "2           19\n",
       "3            6\n",
       "dtype: int64"
      ]
     },
     "execution_count": 104,
     "metadata": {},
     "output_type": "execute_result"
    }
   ],
   "source": [
    "Y_new = pd.DataFrame(Y,columns=['clusters'])\n",
    "Y_new.value_counts()"
   ]
  },
  {
   "cell_type": "code",
   "execution_count": 105,
   "id": "666a60b4",
   "metadata": {},
   "outputs": [],
   "source": [
    "#creating a scatter plot using Matplotlib, where the points are colored based on cluster assignments"
   ]
  },
  {
   "cell_type": "code",
   "execution_count": 106,
   "id": "32dc7bd8",
   "metadata": {},
   "outputs": [
    {
     "data": {
      "text/plain": [
       "<matplotlib.collections.PathCollection at 0x21529f3f940>"
      ]
     },
     "execution_count": 106,
     "metadata": {},
     "output_type": "execute_result"
    }
   ],
   "source": [
    "plt.figure(figsize=(10, 7))  \n",
    "plt.scatter(X.iloc[:,1], X.iloc[:,2], c=acc2.labels_, cmap='rainbow')"
   ]
  },
  {
   "cell_type": "code",
   "execution_count": 107,
   "id": "399d1dc9",
   "metadata": {},
   "outputs": [],
   "source": [
    "# complete linkage using l2 distance metric"
   ]
  },
  {
   "cell_type": "code",
   "execution_count": 108,
   "id": "4c27e19f",
   "metadata": {},
   "outputs": [
    {
     "data": {
      "text/plain": [
       "array([0, 0, 0, 3, 2, 3, 0, 0, 0, 0, 3, 0, 0, 0, 3, 0, 0, 0, 3, 2, 2, 2,\n",
       "       0, 0, 2, 2, 0, 0, 2, 0, 0, 3, 2, 0, 0, 2, 2, 0, 0, 2, 2, 0, 0, 1,\n",
       "       2, 0, 0, 2, 0, 0, 0, 0, 0, 0, 0, 0, 2, 0, 0, 1, 1, 1, 1, 4, 4, 1,\n",
       "       1, 1, 2, 2, 2, 4, 1, 2, 2, 4, 4, 1, 2, 1, 4, 2, 1, 1, 1, 1, 1, 1,\n",
       "       1, 1, 1, 1, 1, 4, 4, 2, 1, 4, 1, 4, 2, 1, 4, 4, 1, 4, 1, 1, 4, 1,\n",
       "       1, 4, 1, 4, 4, 4, 1, 4, 4, 1, 1, 1, 4, 4, 4, 4, 4, 1, 4, 1, 1, 1,\n",
       "       1, 1, 1, 1, 2, 1, 1, 1, 1, 2, 1, 1, 2, 2, 4, 1, 1, 1, 1, 1, 4, 1,\n",
       "       1, 2, 1, 2, 1, 1, 1, 1, 1, 1, 1, 1, 1, 1, 2, 1, 1, 1, 1, 2, 2, 2,\n",
       "       2, 1], dtype=int64)"
      ]
     },
     "execution_count": 108,
     "metadata": {},
     "output_type": "execute_result"
    }
   ],
   "source": [
    "acc3 = AgglomerativeClustering(n_clusters=5,affinity='l2',linkage='complete')\n",
    "Y = acc3.fit_predict(X)\n",
    "Y"
   ]
  },
  {
   "cell_type": "code",
   "execution_count": 109,
   "id": "5557003c",
   "metadata": {},
   "outputs": [],
   "source": [
    "# created a new DataFrame Y_new with a column named 'clusters' based on some clustering results.value_counts() method is then used to count the occurrences of each unique value in the 'clusters' column."
   ]
  },
  {
   "cell_type": "code",
   "execution_count": 110,
   "id": "9b445175",
   "metadata": {},
   "outputs": [
    {
     "data": {
      "text/plain": [
       "clusters\n",
       "1           72\n",
       "0           37\n",
       "2           35\n",
       "4           28\n",
       "3            6\n",
       "dtype: int64"
      ]
     },
     "execution_count": 110,
     "metadata": {},
     "output_type": "execute_result"
    }
   ],
   "source": [
    "Y_new = pd.DataFrame(Y,columns=['clusters'])\n",
    "Y_new.value_counts()"
   ]
  },
  {
   "cell_type": "code",
   "execution_count": 111,
   "id": "c3cfd535",
   "metadata": {},
   "outputs": [],
   "source": [
    "#creating a scatter plot using Matplotlib, where the points are colored based on cluster assignments"
   ]
  },
  {
   "cell_type": "code",
   "execution_count": 112,
   "id": "33b3c2e4",
   "metadata": {},
   "outputs": [
    {
     "data": {
      "text/plain": [
       "<matplotlib.collections.PathCollection at 0x21529f85cd0>"
      ]
     },
     "execution_count": 112,
     "metadata": {},
     "output_type": "execute_result"
    }
   ],
   "source": [
    "plt.figure(figsize=(10, 7))  \n",
    "plt.scatter(X.iloc[:,1], X.iloc[:,2], c=acc3.labels_, cmap='rainbow')"
   ]
  },
  {
   "cell_type": "code",
   "execution_count": 113,
   "id": "f111bfc9",
   "metadata": {},
   "outputs": [],
   "source": [
    "# complete linkage using cosine distance metric"
   ]
  },
  {
   "cell_type": "code",
   "execution_count": 114,
   "id": "45d5223e",
   "metadata": {},
   "outputs": [
    {
     "data": {
      "text/plain": [
       "array([2, 2, 2, 2, 3, 2, 2, 2, 2, 2, 2, 2, 2, 2, 2, 2, 2, 2, 2, 2, 1, 2,\n",
       "       2, 2, 2, 2, 2, 2, 2, 2, 2, 2, 2, 2, 2, 2, 2, 2, 2, 1, 2, 2, 2, 0,\n",
       "       2, 2, 2, 2, 2, 2, 2, 2, 2, 2, 2, 2, 2, 2, 2, 0, 0, 0, 0, 0, 0, 0,\n",
       "       0, 0, 1, 3, 2, 0, 0, 2, 2, 0, 0, 0, 1, 0, 0, 0, 0, 0, 0, 0, 0, 0,\n",
       "       0, 0, 0, 0, 0, 0, 0, 2, 0, 0, 0, 0, 0, 0, 0, 0, 0, 0, 0, 0, 0, 0,\n",
       "       0, 0, 0, 0, 0, 0, 0, 0, 0, 0, 0, 0, 0, 0, 0, 0, 0, 0, 0, 0, 0, 0,\n",
       "       0, 0, 0, 0, 0, 0, 0, 0, 0, 2, 0, 0, 2, 2, 0, 0, 0, 0, 0, 0, 0, 0,\n",
       "       0, 0, 0, 2, 0, 0, 0, 0, 0, 0, 0, 0, 0, 0, 4, 0, 0, 0, 0, 0, 4, 2,\n",
       "       2, 0], dtype=int64)"
      ]
     },
     "execution_count": 114,
     "metadata": {},
     "output_type": "execute_result"
    }
   ],
   "source": [
    "acc4 = AgglomerativeClustering(n_clusters=5,affinity='cosine',linkage='complete')\n",
    "Y = acc4.fit_predict(X)\n",
    "Y"
   ]
  },
  {
   "cell_type": "code",
   "execution_count": 115,
   "id": "45b762d3",
   "metadata": {},
   "outputs": [],
   "source": [
    "# created a new DataFrame Y_new with a column named 'clusters' based on some clustering results.value_counts() method is then used to count the occurrences of each unique value in the 'clusters' column."
   ]
  },
  {
   "cell_type": "code",
   "execution_count": 116,
   "id": "b5f5bc4a",
   "metadata": {},
   "outputs": [
    {
     "data": {
      "text/plain": [
       "clusters\n",
       "0           105\n",
       "2            65\n",
       "1             4\n",
       "3             2\n",
       "4             2\n",
       "dtype: int64"
      ]
     },
     "execution_count": 116,
     "metadata": {},
     "output_type": "execute_result"
    }
   ],
   "source": [
    "Y_new = pd.DataFrame(Y,columns=['clusters'])\n",
    "Y_new.value_counts()"
   ]
  },
  {
   "cell_type": "code",
   "execution_count": 117,
   "id": "d905c621",
   "metadata": {},
   "outputs": [],
   "source": [
    "#creating a scatter plot using Matplotlib, where the points are colored based on cluster assignments"
   ]
  },
  {
   "cell_type": "code",
   "execution_count": 118,
   "id": "75e4129c",
   "metadata": {},
   "outputs": [
    {
     "data": {
      "text/plain": [
       "<matplotlib.collections.PathCollection at 0x21529fcaf70>"
      ]
     },
     "execution_count": 118,
     "metadata": {},
     "output_type": "execute_result"
    }
   ],
   "source": [
    "plt.figure(figsize=(10, 7))  \n",
    "plt.scatter(X.iloc[:,1], X.iloc[:,2], c=acc4.labels_, cmap='rainbow')"
   ]
  },
  {
   "cell_type": "code",
   "execution_count": 119,
   "id": "1c345a06",
   "metadata": {},
   "outputs": [],
   "source": [
    "# ward linkage has only default euclidean distance metric "
   ]
  },
  {
   "cell_type": "code",
   "execution_count": 120,
   "id": "8a5af975",
   "metadata": {},
   "outputs": [
    {
     "data": {
      "text/plain": [
       "array([3, 3, 3, 1, 0, 1, 1, 1, 3, 3, 1, 1, 1, 3, 1, 1, 1, 3, 1, 0, 0, 0,\n",
       "       3, 3, 0, 0, 3, 1, 0, 3, 1, 1, 3, 1, 3, 0, 0, 3, 3, 0, 0, 3, 3, 0,\n",
       "       0, 3, 3, 3, 3, 1, 3, 1, 3, 1, 3, 3, 3, 1, 1, 2, 0, 2, 0, 4, 4, 0,\n",
       "       2, 2, 0, 0, 0, 4, 2, 3, 0, 4, 4, 2, 0, 2, 4, 0, 0, 2, 2, 2, 2, 2,\n",
       "       0, 0, 2, 2, 2, 4, 4, 3, 0, 4, 0, 4, 0, 2, 4, 4, 0, 4, 2, 2, 4, 0,\n",
       "       2, 4, 2, 4, 4, 4, 2, 4, 4, 2, 0, 2, 4, 4, 4, 4, 4, 2, 4, 2, 0, 2,\n",
       "       2, 2, 0, 0, 0, 2, 2, 2, 2, 0, 2, 2, 0, 0, 4, 0, 0, 2, 2, 2, 4, 0,\n",
       "       0, 0, 2, 0, 0, 0, 2, 0, 2, 0, 0, 2, 0, 0, 0, 0, 2, 2, 0, 0, 0, 0,\n",
       "       0, 2], dtype=int64)"
      ]
     },
     "execution_count": 120,
     "metadata": {},
     "output_type": "execute_result"
    }
   ],
   "source": [
    "acw = AgglomerativeClustering(n_clusters=5,affinity='euclidean',linkage='ward')\n",
    "Y = acw.fit_predict(X)\n",
    "Y"
   ]
  },
  {
   "cell_type": "code",
   "execution_count": 121,
   "id": "ff82f4ec",
   "metadata": {},
   "outputs": [],
   "source": [
    "# created a new DataFrame Y_new with a column named 'clusters' based on some clustering results.value_counts() method is then used to count the occurrences of each unique value in the 'clusters' column."
   ]
  },
  {
   "cell_type": "code",
   "execution_count": 122,
   "id": "acfcb292",
   "metadata": {},
   "outputs": [
    {
     "data": {
      "text/plain": [
       "clusters\n",
       "0           58\n",
       "2           44\n",
       "3           28\n",
       "4           28\n",
       "1           20\n",
       "dtype: int64"
      ]
     },
     "execution_count": 122,
     "metadata": {},
     "output_type": "execute_result"
    }
   ],
   "source": [
    "Y_new = pd.DataFrame(Y,columns=['clusters'])\n",
    "Y_new.value_counts()"
   ]
  },
  {
   "cell_type": "code",
   "execution_count": 123,
   "id": "0409f718",
   "metadata": {},
   "outputs": [],
   "source": [
    "#creating a scatter plot using Matplotlib, where the points are colored based on cluster assignments"
   ]
  },
  {
   "cell_type": "code",
   "execution_count": 124,
   "id": "a30d6fa9",
   "metadata": {},
   "outputs": [
    {
     "data": {
      "text/plain": [
       "<matplotlib.collections.PathCollection at 0x2152a01f400>"
      ]
     },
     "execution_count": 124,
     "metadata": {},
     "output_type": "execute_result"
    }
   ],
   "source": [
    "plt.figure(figsize=(10,8))\n",
    "plt.scatter(X.iloc[:,2],X.iloc[:,3],c=acw.labels_,cmap='rainbow')"
   ]
  },
  {
   "cell_type": "markdown",
   "id": "a47f908d",
   "metadata": {},
   "source": [
    "# KMEANS CLUSTERING"
   ]
  },
  {
   "cell_type": "code",
   "execution_count": 125,
   "id": "b0ae1105",
   "metadata": {},
   "outputs": [],
   "source": [
    "#using the KMeans clustering algorithm from scikit-learn on your DataFrame X with n_clusters=6. This means you are attempting to cluster your data into 6 clusters."
   ]
  },
  {
   "cell_type": "code",
   "execution_count": 126,
   "id": "f3e35692",
   "metadata": {},
   "outputs": [
    {
     "data": {
      "text/plain": [
       "KMeans(n_clusters=6)"
      ]
     },
     "execution_count": 126,
     "metadata": {},
     "output_type": "execute_result"
    }
   ],
   "source": [
    "from sklearn.cluster import KMeans\n",
    "kmeans = KMeans(n_clusters=6)\n",
    "kmeans.fit(X)"
   ]
  },
  {
   "cell_type": "code",
   "execution_count": 127,
   "id": "863db23b",
   "metadata": {},
   "outputs": [],
   "source": [
    "# created a new DataFrame Y_new with a column named 'clusters' based on some clustering results.value_counts() method is then used to count the occurrences of each unique value in the 'clusters' column."
   ]
  },
  {
   "cell_type": "code",
   "execution_count": 128,
   "id": "0c1c1561",
   "metadata": {},
   "outputs": [
    {
     "data": {
      "text/plain": [
       "clusters\n",
       "1           57\n",
       "5           48\n",
       "0           26\n",
       "2           24\n",
       "4           17\n",
       "3            6\n",
       "dtype: int64"
      ]
     },
     "execution_count": 128,
     "metadata": {},
     "output_type": "execute_result"
    }
   ],
   "source": [
    "Y = kmeans.predict(X)\n",
    "Y_new = pd.DataFrame(Y,columns=['clusters'])\n",
    "Y_new.value_counts()"
   ]
  },
  {
   "cell_type": "code",
   "execution_count": 129,
   "id": "60249c30",
   "metadata": {},
   "outputs": [
    {
     "data": {
      "text/plain": [
       "646886.7817745255"
      ]
     },
     "execution_count": 129,
     "metadata": {},
     "output_type": "execute_result"
    }
   ],
   "source": [
    "kmeans.inertia_"
   ]
  },
  {
   "cell_type": "code",
   "execution_count": 130,
   "id": "cf56c831",
   "metadata": {},
   "outputs": [],
   "source": [
    "# using the KMeans algorithm with a different number of clusters (from 1 to 13) and recording the inertia (within-cluster sum of squares) for each number of clusters"
   ]
  },
  {
   "cell_type": "code",
   "execution_count": 131,
   "id": "f2042fdc",
   "metadata": {},
   "outputs": [
    {
     "name": "stdout",
     "output_type": "stream",
     "text": [
      "[17591888.28194833, 4543290.204116592, 2370241.9103852804, 1332698.4482710646, 915938.5763492449, 646886.7817745255, 411702.53462852223, 322794.50358256116, 270720.4589661649, 217477.95934168046, 186502.72326557338, 159734.48267646218, 139614.1855062348]\n"
     ]
    }
   ],
   "source": [
    "l1 = []\n",
    "for i in range(1,14):\n",
    "    kmeans = KMeans(n_clusters=i)\n",
    "    kmeans=kmeans.fit(X)\n",
    "    Y = kmeans.predict(X)\n",
    "    l1.append(kmeans.inertia_)\n",
    "    \n",
    "print(l1)"
   ]
  },
  {
   "cell_type": "markdown",
   "id": "b10bf537",
   "metadata": {},
   "source": [
    "# Elbow plot, Scree plot"
   ]
  },
  {
   "cell_type": "code",
   "execution_count": 132,
   "id": "da9df404",
   "metadata": {},
   "outputs": [],
   "source": [
    "# creating a scatter plot and overlaying a line plot to visualize the inertia values for different numbers of clusters"
   ]
  },
  {
   "cell_type": "code",
   "execution_count": 133,
   "id": "ceafc215",
   "metadata": {},
   "outputs": [],
   "source": [
    "import matplotlib.pyplot as plt\n",
    "plt.scatter(range(1,14),l1)\n",
    "plt.xlabel = 'range(1,14)'\n",
    "plt.ylabel = 'l1'\n",
    "plt.plot(range(1,14),l1,color='red')\n",
    "plt.show()"
   ]
  },
  {
   "cell_type": "code",
   "execution_count": 134,
   "id": "53cc9da7",
   "metadata": {},
   "outputs": [],
   "source": [
    "#creating a scatter plot using Matplotlib, where the points are colored based on cluster assignments"
   ]
  },
  {
   "cell_type": "code",
   "execution_count": 135,
   "id": "692cfbec",
   "metadata": {},
   "outputs": [
    {
     "data": {
      "text/plain": [
       "<matplotlib.collections.PathCollection at 0x2152a1a7e50>"
      ]
     },
     "execution_count": 135,
     "metadata": {},
     "output_type": "execute_result"
    }
   ],
   "source": [
    "plt.figure(figsize=(10,8))\n",
    "plt.scatter(X.iloc[:,1],X.iloc[:,2],c=kmeans.labels_,cmap='rainbow')"
   ]
  },
  {
   "cell_type": "markdown",
   "id": "483f83c4",
   "metadata": {},
   "source": [
    "# DBSCAN CLUSTERING"
   ]
  },
  {
   "cell_type": "code",
   "execution_count": 136,
   "id": "66d4b0be",
   "metadata": {},
   "outputs": [],
   "source": [
    "# using the StandardScaler from scikit-learn to standardize your data"
   ]
  },
  {
   "cell_type": "code",
   "execution_count": 137,
   "id": "642a5c54",
   "metadata": {},
   "outputs": [
    {
     "data": {
      "text/html": [
       "<div>\n",
       "<style scoped>\n",
       "    .dataframe tbody tr th:only-of-type {\n",
       "        vertical-align: middle;\n",
       "    }\n",
       "\n",
       "    .dataframe tbody tr th {\n",
       "        vertical-align: top;\n",
       "    }\n",
       "\n",
       "    .dataframe thead th {\n",
       "        text-align: right;\n",
       "    }\n",
       "</style>\n",
       "<table border=\"1\" class=\"dataframe\">\n",
       "  <thead>\n",
       "    <tr style=\"text-align: right;\">\n",
       "      <th></th>\n",
       "      <th>Type</th>\n",
       "      <th>Alcohol</th>\n",
       "      <th>Malic</th>\n",
       "      <th>Ash</th>\n",
       "    </tr>\n",
       "  </thead>\n",
       "  <tbody>\n",
       "    <tr>\n",
       "      <th>0</th>\n",
       "      <td>1.014285</td>\n",
       "      <td>1.640721</td>\n",
       "      <td>1.027946</td>\n",
       "      <td>-0.115519</td>\n",
       "    </tr>\n",
       "    <tr>\n",
       "      <th>1</th>\n",
       "      <td>0.965044</td>\n",
       "      <td>-0.409676</td>\n",
       "      <td>2.214331</td>\n",
       "      <td>-0.446231</td>\n",
       "    </tr>\n",
       "    <tr>\n",
       "      <th>2</th>\n",
       "      <td>1.394758</td>\n",
       "      <td>-0.499145</td>\n",
       "      <td>-0.346496</td>\n",
       "      <td>0.434131</td>\n",
       "    </tr>\n",
       "    <tr>\n",
       "      <th>3</th>\n",
       "      <td>2.334585</td>\n",
       "      <td>0.014759</td>\n",
       "      <td>-0.304787</td>\n",
       "      <td>-0.233266</td>\n",
       "    </tr>\n",
       "    <tr>\n",
       "      <th>4</th>\n",
       "      <td>-0.036838</td>\n",
       "      <td>1.411416</td>\n",
       "      <td>-0.138024</td>\n",
       "      <td>0.674390</td>\n",
       "    </tr>\n",
       "    <tr>\n",
       "      <th>...</th>\n",
       "      <td>...</td>\n",
       "      <td>...</td>\n",
       "      <td>...</td>\n",
       "      <td>...</td>\n",
       "    </tr>\n",
       "    <tr>\n",
       "      <th>173</th>\n",
       "      <td>-0.022230</td>\n",
       "      <td>-0.346464</td>\n",
       "      <td>-0.852727</td>\n",
       "      <td>-1.427127</td>\n",
       "    </tr>\n",
       "    <tr>\n",
       "      <th>174</th>\n",
       "      <td>0.009966</td>\n",
       "      <td>0.178514</td>\n",
       "      <td>-1.436780</td>\n",
       "      <td>-0.700209</td>\n",
       "    </tr>\n",
       "    <tr>\n",
       "      <th>175</th>\n",
       "      <td>0.281638</td>\n",
       "      <td>1.433739</td>\n",
       "      <td>-0.787093</td>\n",
       "      <td>-2.164284</td>\n",
       "    </tr>\n",
       "    <tr>\n",
       "      <th>176</th>\n",
       "      <td>0.297552</td>\n",
       "      <td>1.425687</td>\n",
       "      <td>-0.636259</td>\n",
       "      <td>-1.682825</td>\n",
       "    </tr>\n",
       "    <tr>\n",
       "      <th>177</th>\n",
       "      <td>-0.595218</td>\n",
       "      <td>-0.016114</td>\n",
       "      <td>-1.862522</td>\n",
       "      <td>-1.494781</td>\n",
       "    </tr>\n",
       "  </tbody>\n",
       "</table>\n",
       "<p>178 rows × 4 columns</p>\n",
       "</div>"
      ],
      "text/plain": [
       "         Type   Alcohol     Malic       Ash\n",
       "0    1.014285  1.640721  1.027946 -0.115519\n",
       "1    0.965044 -0.409676  2.214331 -0.446231\n",
       "2    1.394758 -0.499145 -0.346496  0.434131\n",
       "3    2.334585  0.014759 -0.304787 -0.233266\n",
       "4   -0.036838  1.411416 -0.138024  0.674390\n",
       "..        ...       ...       ...       ...\n",
       "173 -0.022230 -0.346464 -0.852727 -1.427127\n",
       "174  0.009966  0.178514 -1.436780 -0.700209\n",
       "175  0.281638  1.433739 -0.787093 -2.164284\n",
       "176  0.297552  1.425687 -0.636259 -1.682825\n",
       "177 -0.595218 -0.016114 -1.862522 -1.494781\n",
       "\n",
       "[178 rows x 4 columns]"
      ]
     },
     "execution_count": 137,
     "metadata": {},
     "output_type": "execute_result"
    }
   ],
   "source": [
    "from sklearn.preprocessing import StandardScaler\n",
    "ss = StandardScaler()\n",
    "ss_X = ss.fit_transform(X)\n",
    "ss_X = pd.DataFrame(ss_X)\n",
    "ss_X.columns = list(X)\n",
    "ss_X"
   ]
  },
  {
   "cell_type": "code",
   "execution_count": 138,
   "id": "1f42e88c",
   "metadata": {},
   "outputs": [],
   "source": [
    "#using the DBSCAN algorithm from scikit-learn on your standardized data ss_X"
   ]
  },
  {
   "cell_type": "code",
   "execution_count": 139,
   "id": "454af100",
   "metadata": {},
   "outputs": [
    {
     "data": {
      "text/plain": [
       "DBSCAN(eps=1, min_samples=8)"
      ]
     },
     "execution_count": 139,
     "metadata": {},
     "output_type": "execute_result"
    }
   ],
   "source": [
    "from sklearn.cluster import DBSCAN\n",
    "dbscan = DBSCAN(eps=1,min_samples=8)\n",
    "dbscan.fit(ss_X)"
   ]
  },
  {
   "cell_type": "code",
   "execution_count": 140,
   "id": "0c8b1922",
   "metadata": {},
   "outputs": [
    {
     "data": {
      "text/plain": [
       "array([-1,  0,  0,  0, -1,  0,  0,  0,  0,  0, -1,  0,  0,  0, -1,  0,  0,\n",
       "        0, -1,  0, -1,  0,  0,  0,  0, -1,  0,  0,  0,  0, -1, -1,  0, -1,\n",
       "        0,  0,  0,  0,  0, -1,  0,  0,  0,  0,  0,  0,  0,  0,  0,  0,  0,\n",
       "        0,  0,  0,  0,  0,  0,  0,  0, -1,  0, -1,  0,  0,  0,  0, -1,  0,\n",
       "        0, -1,  0,  0,  0, -1,  0,  0, -1,  0, -1,  0,  0,  0,  0,  0,  0,\n",
       "        0,  0,  0,  0, -1,  0,  0,  0,  0,  0, -1, -1,  0,  0,  0,  0,  0,\n",
       "        0,  0,  0,  0,  0,  0,  0,  0,  0,  0,  0,  0,  0,  0,  0, -1, -1,\n",
       "        0,  0, -1, -1,  0,  0,  0,  0, -1,  0,  0, -1,  0,  0,  0,  0,  0,\n",
       "        0,  0,  0,  0,  0,  0,  0,  0, -1,  0,  0,  0,  0, -1, -1, -1, -1,\n",
       "        0,  0,  0,  0, -1, -1,  0,  0,  0,  0,  0,  0,  0, -1,  0, -1, -1,\n",
       "        0,  0,  0,  0,  0, -1, -1,  0], dtype=int64)"
      ]
     },
     "execution_count": 140,
     "metadata": {},
     "output_type": "execute_result"
    }
   ],
   "source": [
    "Y = dbscan.labels_\n",
    "Y"
   ]
  },
  {
   "cell_type": "code",
   "execution_count": 141,
   "id": "a018a4c9",
   "metadata": {},
   "outputs": [],
   "source": [
    "# created a new DataFrame Y_new with a column named 'clusters' based on some clustering results.value_counts() method is then used to count the occurrences of each unique value in the 'clusters' column."
   ]
  },
  {
   "cell_type": "code",
   "execution_count": 142,
   "id": "4fd0a6e3",
   "metadata": {},
   "outputs": [
    {
     "data": {
      "text/plain": [
       "clusters\n",
       " 0          139\n",
       "-1           39\n",
       "dtype: int64"
      ]
     },
     "execution_count": 142,
     "metadata": {},
     "output_type": "execute_result"
    }
   ],
   "source": [
    "Y_new = pd.DataFrame(Y,columns=['clusters'])\n",
    "Y_new.value_counts()"
   ]
  },
  {
   "cell_type": "code",
   "execution_count": 143,
   "id": "99ea4853",
   "metadata": {},
   "outputs": [],
   "source": [
    "#creating a scatter plot using Matplotlib, where the points are colored based on cluster assignments"
   ]
  },
  {
   "cell_type": "code",
   "execution_count": 144,
   "id": "f308d4e0",
   "metadata": {},
   "outputs": [
    {
     "data": {
      "text/plain": [
       "<matplotlib.collections.PathCollection at 0x2152a1ffd90>"
      ]
     },
     "execution_count": 144,
     "metadata": {},
     "output_type": "execute_result"
    }
   ],
   "source": [
    "plt.figure(figsize=(10,8))\n",
    "plt.scatter(X.iloc[:,1],X.iloc[:,2],c=dbscan.labels_,cmap='rainbow')"
   ]
  },
  {
   "cell_type": "code",
   "execution_count": 145,
   "id": "7b2f2a2f",
   "metadata": {},
   "outputs": [],
   "source": [
    "#creating a scatter plot using Matplotlib, where the points are colored based on cluster assignments"
   ]
  },
  {
   "cell_type": "code",
   "execution_count": 146,
   "id": "ea038ce9",
   "metadata": {},
   "outputs": [
    {
     "data": {
      "text/plain": [
       "<matplotlib.collections.PathCollection at 0x2152a244940>"
      ]
     },
     "execution_count": 146,
     "metadata": {},
     "output_type": "execute_result"
    }
   ],
   "source": [
    "plt.figure(figsize=(10,8))\n",
    "plt.scatter(X.iloc[:,1],X.iloc[:,3],c=dbscan.labels_,cmap='rainbow')"
   ]
  },
  {
   "cell_type": "code",
   "execution_count": 147,
   "id": "aa27f9d6",
   "metadata": {},
   "outputs": [],
   "source": [
    "#creating a scatter plot using Matplotlib, where the points are colored based on cluster assignments"
   ]
  },
  {
   "cell_type": "code",
   "execution_count": 148,
   "id": "c34fb8e9",
   "metadata": {},
   "outputs": [
    {
     "data": {
      "text/plain": [
       "<matplotlib.collections.PathCollection at 0x2152a282fa0>"
      ]
     },
     "execution_count": 148,
     "metadata": {},
     "output_type": "execute_result"
    }
   ],
   "source": [
    "plt.figure(figsize=(10,8))\n",
    "plt.scatter(X.iloc[:,0],X.iloc[:,2],c=dbscan.labels_,cmap='rainbow')"
   ]
  },
  {
   "cell_type": "code",
   "execution_count": 149,
   "id": "486a177e",
   "metadata": {},
   "outputs": [
    {
     "data": {
      "text/plain": [
       "DBSCAN(eps=1.5, min_samples=9)"
      ]
     },
     "execution_count": 149,
     "metadata": {},
     "output_type": "execute_result"
    }
   ],
   "source": [
    "dbs = DBSCAN(eps=1.5,min_samples=9)\n",
    "dbs.fit(ss_X)"
   ]
  },
  {
   "cell_type": "code",
   "execution_count": 150,
   "id": "7f21d6f8",
   "metadata": {},
   "outputs": [
    {
     "data": {
      "text/plain": [
       "array([ 0,  0,  0,  0,  0,  0,  0,  0,  0,  0,  0,  0,  0,  0,  0,  0,  0,\n",
       "        0,  0,  0,  0,  0,  0,  0,  0, -1,  0,  0,  0,  0,  0,  0,  0,  0,\n",
       "        0,  0,  0,  0,  0,  0,  0,  0,  0,  0,  0,  0,  0,  0,  0,  0,  0,\n",
       "        0,  0,  0,  0,  0,  0,  0,  0, -1,  0,  0,  0,  0,  0,  0,  0,  0,\n",
       "        0, -1,  0,  0,  0, -1,  0,  0,  0,  0,  0,  0,  0,  0,  0,  0,  0,\n",
       "        0,  0,  0,  0,  0,  0,  0,  0,  0,  0, -1, -1,  0,  0,  0,  0,  0,\n",
       "        0,  0,  0,  0,  0,  0,  0,  0,  0,  0,  0,  0,  0,  0,  0,  0,  0,\n",
       "        0,  0, -1,  0,  0,  0,  0,  0,  0,  0,  0,  0,  0,  0,  0,  0,  0,\n",
       "        0,  0,  0,  0,  0,  0,  0,  0,  0,  0,  0,  0,  0,  0,  0,  0,  0,\n",
       "        0,  0,  0,  0, -1,  0,  0,  0,  0,  0,  0,  0,  0,  0,  0,  0,  0,\n",
       "        0,  0,  0,  0,  0,  0,  0,  0], dtype=int64)"
      ]
     },
     "execution_count": 150,
     "metadata": {},
     "output_type": "execute_result"
    }
   ],
   "source": [
    "Y = dbs.labels_\n",
    "Y"
   ]
  },
  {
   "cell_type": "code",
   "execution_count": 151,
   "id": "588b0907",
   "metadata": {},
   "outputs": [],
   "source": [
    "# created a new DataFrame Y_new with a column named 'clusters' based on some clustering results.value_counts() method is then used to count the occurrences of each unique value in the 'clusters' column."
   ]
  },
  {
   "cell_type": "code",
   "execution_count": 152,
   "id": "c312450c",
   "metadata": {},
   "outputs": [
    {
     "data": {
      "text/plain": [
       "clusters\n",
       " 0          170\n",
       "-1            8\n",
       "dtype: int64"
      ]
     },
     "execution_count": 152,
     "metadata": {},
     "output_type": "execute_result"
    }
   ],
   "source": [
    "Y_new = pd.DataFrame(Y,columns=['clusters'])\n",
    "Y_new.value_counts()"
   ]
  },
  {
   "cell_type": "code",
   "execution_count": 153,
   "id": "c38a59f4",
   "metadata": {},
   "outputs": [],
   "source": [
    "#creating a scatter plot using Matplotlib, where the points are colored based on cluster assignments"
   ]
  },
  {
   "cell_type": "code",
   "execution_count": 154,
   "id": "4f605f10",
   "metadata": {},
   "outputs": [
    {
     "data": {
      "text/plain": [
       "<matplotlib.collections.PathCollection at 0x2152a2d35e0>"
      ]
     },
     "execution_count": 154,
     "metadata": {},
     "output_type": "execute_result"
    }
   ],
   "source": [
    "plt.figure(figsize=(10,7))\n",
    "plt.scatter(X.iloc[:,0],X.iloc[:,1],c=dbs.labels_,cmap='rainbow')"
   ]
  },
  {
   "cell_type": "code",
   "execution_count": 155,
   "id": "70a3674d",
   "metadata": {},
   "outputs": [],
   "source": [
    "#creating a scatter plot using Matplotlib, where the points are colored based on cluster assignments"
   ]
  },
  {
   "cell_type": "code",
   "execution_count": 156,
   "id": "dec01e0a",
   "metadata": {},
   "outputs": [
    {
     "data": {
      "text/plain": [
       "<matplotlib.collections.PathCollection at 0x2152a31e3a0>"
      ]
     },
     "execution_count": 156,
     "metadata": {},
     "output_type": "execute_result"
    }
   ],
   "source": [
    "plt.figure(figsize=(10,7))\n",
    "plt.scatter(X.iloc[:,3],X.iloc[:,1],c=dbs.labels_,cmap='rainbow')"
   ]
  },
  {
   "cell_type": "code",
   "execution_count": 157,
   "id": "0ddbe5a3",
   "metadata": {},
   "outputs": [],
   "source": [
    "#creating a scatter plot using Matplotlib, where the points are colored based on cluster assignments"
   ]
  },
  {
   "cell_type": "code",
   "execution_count": 158,
   "id": "b302e7bb",
   "metadata": {},
   "outputs": [
    {
     "data": {
      "text/plain": [
       "<matplotlib.collections.PathCollection at 0x2152a357b80>"
      ]
     },
     "execution_count": 158,
     "metadata": {},
     "output_type": "execute_result"
    }
   ],
   "source": [
    "plt.figure(figsize=(10,7))\n",
    "plt.scatter(X.iloc[:,1],X.iloc[:,3],c=dbs.labels_,cmap='rainbow')"
   ]
  },
  {
   "cell_type": "code",
   "execution_count": 159,
   "id": "2f0265f5",
   "metadata": {},
   "outputs": [],
   "source": [
    "#creating a scatter plot using Matplotlib, where the points are colored based on cluster assignments"
   ]
  },
  {
   "cell_type": "code",
   "execution_count": 160,
   "id": "0410480e",
   "metadata": {},
   "outputs": [
    {
     "data": {
      "text/plain": [
       "<matplotlib.collections.PathCollection at 0x2152a39d940>"
      ]
     },
     "execution_count": 160,
     "metadata": {},
     "output_type": "execute_result"
    }
   ],
   "source": [
    "plt.figure(figsize=(10,7))\n",
    "plt.scatter(X.iloc[:,1],X.iloc[:,2],c=dbs.labels_,cmap='rainbow')"
   ]
  }
 ],
 "metadata": {
  "kernelspec": {
   "display_name": "Python 3 (ipykernel)",
   "language": "python",
   "name": "python3"
  },
  "language_info": {
   "codemirror_mode": {
    "name": "ipython",
    "version": 3
   },
   "file_extension": ".py",
   "mimetype": "text/x-python",
   "name": "python",
   "nbconvert_exporter": "python",
   "pygments_lexer": "ipython3",
   "version": "3.9.13"
  }
 },
 "nbformat": 4,
 "nbformat_minor": 5
}
